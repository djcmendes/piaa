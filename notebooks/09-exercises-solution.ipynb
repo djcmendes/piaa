{
 "cells": [
  {
   "cell_type": "markdown",
   "id": "dc9b1a3a-e800-4b4d-a20c-5391eb9e5a2d",
   "metadata": {},
   "source": [
    "# Exercícios: Classificação"
   ]
  },
  {
   "cell_type": "code",
   "execution_count": null,
   "id": "fa3e5cce-4425-4d50-b0a9-e1d7756044ee",
   "metadata": {},
   "outputs": [],
   "source": [
    "import os\n",
    "\n",
    "import numpy as np\n",
    "import pandas as pd\n",
    "\n",
    "import sklearn\n",
    "from sklearn.model_selection import train_test_split, cross_val_predict\n",
    "from sklearn.metrics import classification_report, confusion_matrix, ConfusionMatrixDisplay\n",
    "from sklearn.neighbors import KNeighborsClassifier\n",
    "from sklearn.naive_bayes import GaussianNB\n",
    "from sklearn.tree import DecisionTreeClassifier, plot_tree\n",
    "from sklearn.ensemble import RandomForestClassifier\n",
    "from sklearn.linear_model import LogisticRegression, Perceptron\n",
    "from sklearn.svm import SVC\n",
    "from sklearn.neural_network import MLPClassifier\n",
    "\n",
    "%matplotlib inline\n",
    "import matplotlib.pyplot as plt\n",
    "import seaborn as sns\n",
    "sns.set_theme()"
   ]
  },
  {
   "cell_type": "markdown",
   "id": "19999e31-2b73-4841-bd62-ea155b0fe590",
   "metadata": {},
   "source": [
    "Para estes exercícios, será usado o conjunto de dados [Credit Card Customers](https://www.kaggle.com/sakshigoyal7/credit-card-customers):"
   ]
  },
  {
   "cell_type": "code",
   "execution_count": null,
   "id": "21882805-4c14-4abb-b4ac-143dddde4af6",
   "metadata": {},
   "outputs": [],
   "source": [
    "data_path = '../data/' if os.path.exists('../data/') else 'https://raw.githubusercontent.com/TheAwesomeGe/DECD/main/data/'\n",
    "xlsx_file_path = data_path + 'BankChurners.xlsx'\n",
    "df = pd.read_excel(xlsx_file_path, index_col='CLIENTNUM')"
   ]
  },
  {
   "cell_type": "markdown",
   "id": "9ae7ba7b-55af-4ba4-8d60-d08dfa21cbef",
   "metadata": {},
   "source": [
    "1. Se não o fez antes, dedique algum tempo a rever e a comprender as várias colunas do conjunto de dados, tendo também em conta a descrição que pode encontrar no [website](https://www.kaggle.com/sakshigoyal7/credit-card-customers). Em seguida, prepare os dados de forma a que estes não incluam valores em falta, o atributo `Attrition_Flag` seja o alvo da classificação, e os restantes atributos sejam numéricos."
   ]
  },
  {
   "cell_type": "code",
   "execution_count": null,
   "id": "65d62593-7576-4192-92d7-cf496c5489e4",
   "metadata": {},
   "outputs": [],
   "source": [
    "df.head()"
   ]
  },
  {
   "cell_type": "code",
   "execution_count": null,
   "id": "e1fa3539-de80-4d16-aaa5-f6ef0d0f910f",
   "metadata": {},
   "outputs": [],
   "source": [
    "# Note: For simplicity, we will just discard the missing values \n",
    "df.replace('Unknown', np.nan, inplace=True)\n",
    "df.dropna(inplace=True)"
   ]
  },
  {
   "cell_type": "code",
   "execution_count": null,
   "id": "99789fc6-5b29-4612-93b2-dc3868c9b16a",
   "metadata": {},
   "outputs": [],
   "source": [
    "y = df['Attrition_Flag'].astype('category')\n",
    "X = df.drop(columns=['Attrition_Flag'])"
   ]
  },
  {
   "cell_type": "code",
   "execution_count": null,
   "id": "b79589d4-a1f1-4542-8404-34dc5d05170d",
   "metadata": {},
   "outputs": [],
   "source": [
    "X['Gender'] = X['Gender'].astype('category')\n",
    "X['Education_Level'] = X['Education_Level'].astype('category')\n",
    "X['Marital_Status'] = X['Marital_Status'].astype('category')\n",
    "X['Income_Category'] = X['Income_Category'].astype('category')\n",
    "X['Card_Category'] = X['Card_Category'].astype('category')\n",
    "\n",
    "cat_columns = X.select_dtypes(['category']).columns\n",
    "X[cat_columns] = X[cat_columns].apply(lambda x: pd.factorize(x)[0]) # Not the best approach for ordinal features"
   ]
  },
  {
   "cell_type": "markdown",
   "id": "b0b76cd6-2b75-4632-92b5-49a81344011d",
   "metadata": {},
   "source": [
    "2. Particione o conjunto de dados de forma a que 80% seja para treino e 20% para teste."
   ]
  },
  {
   "cell_type": "code",
   "execution_count": null,
   "id": "d0b76753-512b-4c93-8c8e-e7a465f83bad",
   "metadata": {},
   "outputs": [],
   "source": [
    "X_train, X_test, y_train, y_test = train_test_split(X, y, test_size=0.2, random_state=42)"
   ]
  },
  {
   "cell_type": "markdown",
   "id": "b81ba596-4e78-4bc9-96f7-3985581c60f9",
   "metadata": {},
   "source": [
    "3. Usando uma abordagem de validação cruzada sobre o conjunto de treino, explore o uso de diferentes algoritmos de classificação e analise as diferenças entre os resultados obtidos."
   ]
  },
  {
   "cell_type": "code",
   "execution_count": null,
   "id": "7f4cec5e-b672-4327-b90f-4745f9e2fb90",
   "metadata": {},
   "outputs": [],
   "source": [
    "classifiers = { # NOTE: The hyperparameters are not optimized.\n",
    "    'kNN': KNeighborsClassifier(n_neighbors=3),\n",
    "    'Naive Bayes': GaussianNB(),\n",
    "    'Decision Tree': DecisionTreeClassifier(),\n",
    "    'Random Forest': RandomForestClassifier(),\n",
    "    'Logistic Regression': LogisticRegression(max_iter=1000),\n",
    "    'SVM': SVC(),\n",
    "    'Neural Network': MLPClassifier(hidden_layer_sizes=(16,))\n",
    "}\n",
    "\n",
    "cv_results = {}\n",
    "for c_name, c in classifiers.items():\n",
    "    pred = cross_val_predict(c, X_train, y_train, cv=5)\n",
    "    cv_results[c_name] = classification_report(y_train, pred, target_names=y.cat.categories, output_dict=True)"
   ]
  },
  {
   "cell_type": "code",
   "execution_count": null,
   "id": "2f6e32ff-dbb9-4a31-b989-65bd050a662a",
   "metadata": {},
   "outputs": [],
   "source": [
    "selected_metrics = {c: {\n",
    "    'accuracy': r['accuracy'], \n",
    "    'macro f1': r['macro avg']['f1-score'], \n",
    "    'weighted f1': r['weighted avg']['f1-score']\n",
    "} for c, r in cv_results.items()}\n",
    "\n",
    "cv_selected_results = pd.DataFrame.from_dict(selected_metrics, orient='index')\n",
    "cv_selected_results"
   ]
  },
  {
   "cell_type": "markdown",
   "id": "33fc65ae-fa36-461f-8721-b00a9f659cc4",
   "metadata": {},
   "source": [
    "4. Treine uma árvore de decisão no conjunto de treino e identifique os atributos mais importantes visualizando a árvore obtida."
   ]
  },
  {
   "cell_type": "code",
   "execution_count": null,
   "id": "5cc60d8b-28ba-4af8-8311-8a08ce5eeb42",
   "metadata": {},
   "outputs": [],
   "source": [
    "dt = classifiers['Decision Tree'].fit(X_train, y_train)\n",
    "plot_tree(dt, feature_names=X_train.columns, class_names=dt.classes_, impurity=False, rounded=True, filled=True, max_depth=1);"
   ]
  },
  {
   "cell_type": "markdown",
   "id": "40f39da9-8e28-4caa-a0ec-85b3237f5438",
   "metadata": {},
   "source": [
    "5. Entre as abordagens exploradas no ponto 3, selecione a melhor com base na taxa de acerto. Use essa abordagem para treinar um classificador no conjunto de treino. Avalie o desempenho desse classificador no conjunto de teste. A taxa de acerto parece-lhe a métrica mais adequada para este problema?"
   ]
  },
  {
   "cell_type": "code",
   "execution_count": null,
   "id": "62ec3eac-c99e-4101-98b5-bc90db016499",
   "metadata": {},
   "outputs": [],
   "source": [
    "best = cv_selected_results.sort_values('accuracy', ascending=False).index[0]\n",
    "print(best)\n",
    "best_classifier = classifiers[best]\n",
    "best_classifier.fit(X_train, y_train)"
   ]
  },
  {
   "cell_type": "code",
   "execution_count": null,
   "id": "8d9abc87-0460-49e7-b0fc-9fa876ccd17d",
   "metadata": {},
   "outputs": [],
   "source": [
    "test_predictions = best_classifier.predict(X_test)\n",
    "\n",
    "print(classification_report(y_test, test_predictions, target_names=y.cat.categories))\n",
    "cm = confusion_matrix(y_test, test_predictions, labels=y.cat.categories)\n",
    "ConfusionMatrixDisplay(confusion_matrix=cm, display_labels=y.cat.categories).plot()\n",
    "plt.show()"
   ]
  },
  {
   "cell_type": "markdown",
   "id": "ab95e09d-cbca-4357-a783-ecdefbf1c1a0",
   "metadata": {},
   "source": [
    "6. Analise os exemplos do conjunto de teste para os quais o classificador faz previsões incorretas e verifique se existe algum padrão. "
   ]
  },
  {
   "cell_type": "code",
   "execution_count": null,
   "id": "4369d4d0-902a-4eea-a174-519e6f9fc5ec",
   "metadata": {},
   "outputs": [],
   "source": [
    "df_predictions = X_test.copy()\n",
    "df_predictions[y_test.name] = y_test\n",
    "df_predictions['Prediction'] = test_predictions\n",
    "wrong_predictions = df_predictions[y_test != test_predictions]\n",
    "wrong_predictions"
   ]
  },
  {
   "cell_type": "markdown",
   "id": "75b3b9c4-7301-4c90-813a-ae4b006aebe3",
   "metadata": {},
   "source": [
    "7. Repare que o conjunto de dados não é balanceado. Faça um balanceamento do conjunto de **treino**, reduzindo (subamostragem) o número de exemplos da classe `Existing Customer` (**Sugestão**: use a função [`sample`](https://pandas.pydata.org/docs/reference/api/pandas.DataFrame.sample.html)). Repita as experiências e analise o impacto do balanceamento dos dados de treino. "
   ]
  },
  {
   "cell_type": "code",
   "execution_count": null,
   "id": "195dd5e9-8a2e-4017-ba86-3edf99a04761",
   "metadata": {},
   "outputs": [],
   "source": [
    "min_samples = min(y_train.value_counts())\n",
    "balanced_y = pd.concat([\n",
    "    y_train[y_train == label].sample(min_samples, replace=False) for label in y.cat.categories\n",
    "])\n",
    "balanced_X = X_train.loc[balanced_y.index]"
   ]
  },
  {
   "cell_type": "code",
   "execution_count": null,
   "id": "a36418da-6d75-441b-bec8-08b5103c2659",
   "metadata": {},
   "outputs": [],
   "source": [
    "balanced_classifiers = { # NOTE: The hyperparameters are not optimized.\n",
    "    'kNN': KNeighborsClassifier(n_neighbors=3),\n",
    "    'Naive Bayes': GaussianNB(),\n",
    "    'Decision Tree': DecisionTreeClassifier(),\n",
    "    'Random Forest': RandomForestClassifier(),\n",
    "    'Logistic Regression': LogisticRegression(max_iter=5000),\n",
    "    'SVM': SVC(),\n",
    "    'Neural Network': MLPClassifier(hidden_layer_sizes=(16,))\n",
    "}"
   ]
  },
  {
   "cell_type": "code",
   "execution_count": null,
   "id": "186c96c9-0559-460f-9b00-6ef96526ccc9",
   "metadata": {},
   "outputs": [],
   "source": [
    "balanced_cv_results = {}\n",
    "for c_name, c in balanced_classifiers.items():\n",
    "    pred = cross_val_predict(c, balanced_X, balanced_y, cv=5)\n",
    "    balanced_cv_results[c_name] = classification_report(balanced_y, pred, target_names=y.cat.categories, output_dict=True)"
   ]
  },
  {
   "cell_type": "code",
   "execution_count": null,
   "id": "3fa1c288-fb5d-4cf8-be1c-05f8582d776b",
   "metadata": {},
   "outputs": [],
   "source": [
    "balanced_selected_metrics = {c: {\n",
    "    'accuracy': r['accuracy'], \n",
    "    'macro f1': r['macro avg']['f1-score'], \n",
    "    'weighted f1': r['weighted avg']['f1-score']\n",
    "} for c, r in balanced_cv_results.items()}\n",
    "\n",
    "balanced_cv_selected_results = pd.DataFrame.from_dict(balanced_selected_metrics, orient='index')\n",
    "balanced_cv_selected_results"
   ]
  },
  {
   "cell_type": "code",
   "execution_count": null,
   "id": "8360af25-c19e-40dd-84e9-6a9a476ab741",
   "metadata": {},
   "outputs": [],
   "source": [
    "balanced_best = balanced_cv_selected_results.sort_values('accuracy', ascending=False).index[0]\n",
    "print(best)\n",
    "balanced_best_classifier = balanced_classifiers[best]\n",
    "balanced_best_classifier.fit(balanced_X, balanced_y)"
   ]
  },
  {
   "cell_type": "code",
   "execution_count": null,
   "id": "cdb8fcb9-799c-4c97-b142-9a9511009541",
   "metadata": {},
   "outputs": [],
   "source": [
    "balanced_test_predictions = balanced_best_classifier.predict(X_test)\n",
    "\n",
    "print(classification_report(y_test, balanced_test_predictions, target_names=y.cat.categories))\n",
    "cm = confusion_matrix(y_test, balanced_test_predictions, labels=y.cat.categories)\n",
    "ConfusionMatrixDisplay(confusion_matrix=cm, display_labels=y.cat.categories).plot()\n",
    "plt.show()"
   ]
  },
  {
   "cell_type": "code",
   "execution_count": null,
   "id": "090c9295-dbc5-4eb1-af51-bc5090f98e7b",
   "metadata": {},
   "outputs": [],
   "source": [
    "balanced_df_predictions = X_test.copy()\n",
    "balanced_df_predictions[y_test.name] = y_test\n",
    "balanced_df_predictions['Prediction'] = balanced_test_predictions\n",
    "balanced_wrong_predictions = balanced_df_predictions[y_test != balanced_test_predictions]\n",
    "balanced_wrong_predictions"
   ]
  }
 ],
 "metadata": {
  "kernelspec": {
   "display_name": "Python 3 (ipykernel)",
   "language": "python",
   "name": "python3"
  },
  "language_info": {
   "codemirror_mode": {
    "name": "ipython",
    "version": 3
   },
   "file_extension": ".py",
   "mimetype": "text/x-python",
   "name": "python",
   "nbconvert_exporter": "python",
   "pygments_lexer": "ipython3",
   "version": "3.10.10"
  }
 },
 "nbformat": 4,
 "nbformat_minor": 5
}
