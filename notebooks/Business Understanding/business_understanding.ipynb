{
 "cells": [
  {
   "cell_type": "markdown",
   "metadata": {},
   "source": [
    "# Projeto PIAA"
   ]
  },
  {
   "cell_type": "markdown",
   "metadata": {},
   "source": [
    "Base de dados utilizada (PISA): https://www.oecd.org/en/data/datasets/pisa-2022-database.html"
   ]
  },
  {
   "cell_type": "markdown",
   "metadata": {},
   "source": [
    "### Objetivos:\n",
    "\n",
    "O objetivo deste projeto é analisar a base de dados PISA, uma base de dados no setor da educação, e encontrar correlações que expliquem alguns comportamentos dos alunos.\n",
    "\n",
    "Dentro de uma lista de questões sugeridas, começámos pela seguinte:\n",
    "\n",
    "1) Perfil dos alunos repetentes no PISA. Que variáveis contribuem para a explicação do seu desempenho a matemática? Como evoluiu ao longo dos vários ciclos de avaliação?\n",
    "\n",
    "\n",
    "Outras questões a explorar :\n",
    "\n",
    "2) Que estratégias pedagógicas desenvolvidas pelos professores parecem ser promotoras de melhores desempenhos a leitura (PISA 2018 - dados de contexto dos professores)? E que estratégias pedagógicas, segundo a perspetiva dos alunos, parecem ser promotoras de melhores desempenhos a leitura (PISA 2018 - dados de contexto dos alunos)? E têm, professores e alunos, as mesmas perceções?  \n",
    "\n",
    "3) Perfil dos alunos dos cursos vocacionais e profissionais no PISA. Que variáveis contribuem para a explicação do seu desempenho a matemática? Como evoluiu ao longo dos vários ciclos de avaliação?\n"
   ]
  }
 ],
 "metadata": {
  "language_info": {
   "name": "python"
  }
 },
 "nbformat": 4,
 "nbformat_minor": 2
}
