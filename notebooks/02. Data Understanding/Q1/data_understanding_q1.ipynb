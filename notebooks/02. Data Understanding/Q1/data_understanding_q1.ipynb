{
 "cells": [
  {
   "cell_type": "markdown",
   "id": "aaceab26",
   "metadata": {},
   "source": [
    "# 2. Data Understanding\n",
    "\n"
   ]
  },
  {
   "cell_type": "markdown",
   "id": "79d3bd5a",
   "metadata": {},
   "source": [
    "## 2.1 Collect initial data"
   ]
  },
  {
   "cell_type": "markdown",
   "id": "f76d772c",
   "metadata": {},
   "source": [
    "For this question we've only used the Student questionnaire data (from 2022), collected from the folowing link: https://webfs.oecd.org/pisa2022/index.html\n",
    "\n",
    "The dataset was originally in a .sas7bdat format and was converted to a .csv file."
   ]
  },
  {
   "cell_type": "code",
   "execution_count": 1,
   "id": "b38a8a3d",
   "metadata": {},
   "outputs": [
    {
     "data": {
      "text/plain": [
       "'\\nimport pandas as pd\\n\\ndata = pd.read_sas(\\n    \"../../../databases/2022/CY08MSP_STU_QQQ.sas7bdat\", format=\"sas7bdat\"\\n)\\ndata.to_csv(\"../../../databases/2022/student2022.csv\", index=False)\\n\\n'"
      ]
     },
     "execution_count": 1,
     "metadata": {},
     "output_type": "execute_result"
    }
   ],
   "source": [
    "\"\"\"\n",
    "import pandas as pd\n",
    "\n",
    "data = pd.read_sas(\n",
    "    \"../../../databases/2022/CY08MSP_STU_QQQ.sas7bdat\", format=\"sas7bdat\"\n",
    ")\n",
    "data.to_csv(\"../../../databases/2022/student2022.csv\", index=False)\n",
    "\n",
    "\"\"\""
   ]
  },
  {
   "cell_type": "markdown",
   "id": "2c8431e9",
   "metadata": {},
   "source": [
    "**Note:** We don't include these files in the project folder, so it's necessary to manually download and put them in their respective folder."
   ]
  },
  {
   "cell_type": "code",
   "execution_count": null,
   "id": "e38966ac",
   "metadata": {},
   "outputs": [],
   "source": [
    "import pandas as pd\n",
    "\n",
    "student = pd.read_csv(\"../../../databases/2022/STU_QQQ_SAS/student2022.csv\")"
   ]
  },
  {
   "cell_type": "markdown",
   "id": "ef0877f2",
   "metadata": {},
   "source": [
    "For testing pusposes, we included a small sample of the data in the project folder (1% of the original data):"
   ]
  },
  {
   "cell_type": "code",
   "execution_count": null,
   "id": "da45b463",
   "metadata": {},
   "outputs": [],
   "source": [
    "# import pandas as pd\n",
    "\n",
    "# student = pd.read_csv(\"../../../databases/student2022_sample.csv\")"
   ]
  },
  {
   "cell_type": "markdown",
   "id": "4ed789fd",
   "metadata": {},
   "source": [
    "## 2.2 Describe data"
   ]
  },
  {
   "cell_type": "markdown",
   "id": "4fb4b89a",
   "metadata": {},
   "source": [
    "The original dataset has 1278 features"
   ]
  },
  {
   "cell_type": "code",
   "execution_count": null,
   "id": "6692eb27",
   "metadata": {},
   "outputs": [],
   "source": [
    "student.head(5)"
   ]
  },
  {
   "cell_type": "markdown",
   "id": "7215be78",
   "metadata": {},
   "source": [
    "The dataset is composed by 1260 numeric columns and only 18 categorical columns. "
   ]
  },
  {
   "cell_type": "code",
   "execution_count": null,
   "id": "6a8f10b5",
   "metadata": {},
   "outputs": [],
   "source": [
    "import pandas as pd\n",
    "from tabulate import tabulate\n",
    "\n",
    "categorical_columns = student.select_dtypes(include=[\"object\", \"category\"]).columns\n",
    "numeric_columns = student.select_dtypes(include=[\"int64\", \"float64\"]).columns\n",
    "\n",
    "column_types_df = pd.DataFrame(\n",
    "    {\n",
    "        \"Column type\": [\"Numeric\", \"Categorical\"],\n",
    "        \"Number of columns\": [len(numeric_columns), len(categorical_columns) ],\n",
    "        \"Column names\": [\n",
    "            \", \".join(numeric_columns),\n",
    "            \", \".join(categorical_columns),\n",
    "        ],\n",
    "    }\n",
    ")\n",
    "\n",
    "print(\n",
    "    tabulate(\n",
    "        column_types_df,\n",
    "        headers=\"keys\",\n",
    "        tablefmt=\"pretty\",\n",
    "        showindex=False,\n",
    "        colalign=(\"left\", \"left\", \"left\"),\n",
    "    )\n",
    ")"
   ]
  },
  {
   "cell_type": "code",
   "execution_count": null,
   "id": "5d2b56f6",
   "metadata": {},
   "outputs": [],
   "source": [
    "student.describe()"
   ]
  },
  {
   "cell_type": "markdown",
   "id": "babdab81",
   "metadata": {},
   "source": [
    "We can observe that there are a total of 613744 students, from which ~10% are repeating."
   ]
  },
  {
   "cell_type": "code",
   "execution_count": null,
   "id": "96f66488",
   "metadata": {},
   "outputs": [],
   "source": [
    "print(f\"Total number of students: {len(student)}\\n\" )\n",
    "\n",
    "not_repeating_students = student[student[\"REPEAT\"] == 0]\n",
    "print(f\"Total number of non repeating students: {len(not_repeating_students)}\")\n",
    "student_grades = not_repeating_students[\"ST001D01T\"].value_counts().reset_index()\n",
    "student_grades.columns = [\"Grade\", \"Count\"]\n",
    "print(student_grades)\n",
    "print(\"\\n\")\n",
    "repeating_students = student[student[\"REPEAT\"] == 1]\n",
    "print(f\"Total number of repeating students: {len(repeating_students)}\")\n",
    "repeating_students_grades = repeating_students[\"ST001D01T\"].value_counts().reset_index()\n",
    "repeating_students_grades.columns = [\"Grade\", \"Repeating\"]\n",
    "print(repeating_students_grades)"
   ]
  },
  {
   "cell_type": "markdown",
   "id": "2680fd1b",
   "metadata": {},
   "source": [
    "From the previous tables we can conclude that the students can be in different grades, from 7th to 13th. We can separate them, by filtering using the corresponding code \"ST001D01T\""
   ]
  },
  {
   "cell_type": "code",
   "execution_count": null,
   "id": "e791358b",
   "metadata": {},
   "outputs": [],
   "source": [
    "def filter_by_grade(dataframe, grade):\n",
    "    return dataframe[dataframe[\"ST001D01T\"] == grade]"
   ]
  },
  {
   "cell_type": "code",
   "execution_count": null,
   "id": "180cac99",
   "metadata": {},
   "outputs": [],
   "source": [
    "grade_7_repeating = filter_by_grade(repeating_students, 7)\n",
    "grade_8_repeating = filter_by_grade(repeating_students, 8)\n",
    "grade_9_repeating = filter_by_grade(repeating_students, 9)\n",
    "grade_10_repeating = filter_by_grade(repeating_students, 10)\n",
    "grade_11_repeating = filter_by_grade(repeating_students, 11)\n",
    "grade_12_repeating = filter_by_grade(repeating_students, 12)\n",
    "grade_13_repeating = filter_by_grade(repeating_students, 13)\n",
    "\n",
    "grade_7_not_repeating = filter_by_grade(not_repeating_students, 7)\n",
    "grade_8_not_repeating = filter_by_grade(not_repeating_students, 8)\n",
    "grade_9_not_repeating = filter_by_grade(not_repeating_students, 9)\n",
    "grade_10_not_repeating = filter_by_grade(not_repeating_students, 10)\n",
    "grade_11_not_repeating = filter_by_grade(not_repeating_students, 11)\n",
    "grade_12_not_repeating = filter_by_grade(not_repeating_students, 12)\n",
    "grade_13_not_repeating = filter_by_grade(not_repeating_students, 13)"
   ]
  },
  {
   "cell_type": "markdown",
   "id": "2c3139f2",
   "metadata": {},
   "source": [
    "## 2.3 Explore data"
   ]
  },
  {
   "cell_type": "markdown",
   "id": "a1f463f0",
   "metadata": {},
   "source": [
    "The target variable in this analysis is the mathematics score achieved by each student. \n",
    "\n",
    "This score is calculated as the average of the values across all \"Possible Math Value\" columns, which are represented in the dataset as PV1MATH to PV10MATH. These features are plausible values, each representing multiple estimates of the student's performance. Averaging them provides a more reliable and comprehensive measure of the student's grade.\n",
    "\n",
    "Note: The Math result has a scale from 0 to 1000. The typical range goes from 400 to 600. 700 is considered a high score and above 800 is considered very high score."
   ]
  },
  {
   "cell_type": "code",
   "execution_count": null,
   "id": "b3b84edd",
   "metadata": {},
   "outputs": [],
   "source": [
    "math_columns = [f\"PV{i}MATH\" for i in range(1, 11)]\n",
    "student[\"Avg Math Result\"] = student[math_columns].mean(axis=1)\n",
    "student = student.drop(columns=math_columns)\n",
    "student[\"Avg Math Result\"].describe()"
   ]
  },
  {
   "cell_type": "markdown",
   "id": "e05aabfb",
   "metadata": {},
   "source": [
    "If we distribute the students per grade we can check that the majority of repeating students are in the 9th grade and most of the non-repeating students are in the 10th grade, which makes sense because they all are 15 years old.\n",
    "\n",
    "However, there are still some students in more advanced grades (repeating and not repeating) that we should take a deeper look."
   ]
  },
  {
   "cell_type": "code",
   "execution_count": null,
   "id": "a31b7695",
   "metadata": {},
   "outputs": [],
   "source": [
    "import matplotlib.pyplot as plt\n",
    "\n",
    "grades = [7, 8, 9, 10, 11, 12, 13]\n",
    "\n",
    "repeating_counts = [\n",
    "    len(grade_7_repeating),\n",
    "    len(grade_8_repeating),\n",
    "    len(grade_9_repeating),\n",
    "    len(grade_10_repeating),\n",
    "    len(grade_11_repeating),\n",
    "    len(grade_12_repeating),\n",
    "    len(grade_13_repeating),\n",
    "]\n",
    "\n",
    "not_repeating_counts = [\n",
    "    len(grade_7_not_repeating),\n",
    "    len(grade_8_not_repeating),\n",
    "    len(grade_9_not_repeating),\n",
    "    len(grade_10_not_repeating),\n",
    "    len(grade_11_not_repeating),\n",
    "    len(grade_12_not_repeating),\n",
    "    len(grade_13_not_repeating),\n",
    "]\n",
    "\n",
    "total_repeating = sum(repeating_counts)\n",
    "total_not_repeating = sum(not_repeating_counts)\n",
    "\n",
    "repeating_percent = [\n",
    "    r / total_repeating * 100 if total_repeating > 0 else 0 for r in repeating_counts\n",
    "]\n",
    "not_repeating_percent = [\n",
    "    nr / total_not_repeating * 100 if total_not_repeating > 0 else 0\n",
    "    for nr in not_repeating_counts\n",
    "]\n",
    "\n",
    "fig, axes = plt.subplots(1, 2, figsize=(14, 5), sharey=True)\n",
    "\n",
    "axes[0].bar(grades, repeating_percent)\n",
    "axes[0].set_title(\"Distribution of Repeating Students by Grade\")\n",
    "axes[0].set_xlabel(\"Grade\")\n",
    "axes[0].set_ylabel(\"Percentage (%)\")\n",
    "axes[0].set_xticks(grades)\n",
    "axes[0].set_ylim(0, max(max(repeating_percent), max(not_repeating_percent)) + 5)\n",
    "axes[0].grid(axis=\"y\", linestyle=\"--\", alpha=0.6)\n",
    "\n",
    "axes[1].bar(grades, not_repeating_percent, color=\"mediumseagreen\")\n",
    "axes[1].set_title(\"Distribution of Non-repeating Students by Grade\")\n",
    "axes[1].set_xlabel(\"Grade\")\n",
    "axes[1].set_xticks(grades)\n",
    "axes[1].grid(axis=\"y\", linestyle=\"--\", alpha=0.6)\n",
    "\n",
    "plt.tight_layout()\n",
    "plt.show()"
   ]
  },
  {
   "cell_type": "markdown",
   "id": "e44035b9",
   "metadata": {},
   "source": [
    "If we separate the more advanced grades (11th, 12th and 13th) by country, we can clearly observe that the majority of students are English.\n",
    "\n",
    "This can be justified because of the way that the english teaching system works. See: https://b28mathstutor.co.uk/how-the-english-school-system-works/#:~:text=Unlike%20in%20some%20countries%2C%20students,1%2C%20also%20known%20as%20Infants\n",
    "\n",
    "This difference may lead to a disproportionate representation of students and we should consider them as an exception in the next phase."
   ]
  },
  {
   "cell_type": "code",
   "execution_count": null,
   "id": "94d26e2a",
   "metadata": {},
   "outputs": [],
   "source": [
    "import matplotlib.pyplot as plt\n",
    "\n",
    "grade_11 = filter_by_grade(student, 11)\n",
    "grade_12 = filter_by_grade(student, 12)\n",
    "grade_13 = filter_by_grade(student, 13)\n",
    "\n",
    "grade_11_counts = grade_11[\"CNT\"].value_counts(normalize=True).mul(100).head(10)\n",
    "grade_12_counts = grade_12[\"CNT\"].value_counts(normalize=True).mul(100).head(10)\n",
    "grade_13_counts = grade_13[\"CNT\"].value_counts(normalize=True).mul(100).head(10)\n",
    "\n",
    "fig, axes = plt.subplots(1, 3, figsize=(18, 6), sharey=True)\n",
    "\n",
    "axes[0].bar(grade_11_counts.index, grade_11_counts.values, color=\"cornflowerblue\")\n",
    "axes[0].set_title(\"Country Distribution - 11th Grade\")\n",
    "axes[0].set_xlabel(\"Country\")\n",
    "axes[0].set_ylabel(\"Students (%)\")\n",
    "axes[0].tick_params(axis=\"x\", rotation=45)\n",
    "axes[0].set_ylim(\n",
    "    0, max(grade_11_counts.max(), grade_12_counts.max(), grade_13_counts.max()) + 5\n",
    ")\n",
    "\n",
    "axes[1].bar(grade_12_counts.index, grade_12_counts.values, color=\"mediumseagreen\")\n",
    "axes[1].set_title(\"Country Distribution - 12th Grade\")\n",
    "axes[1].set_xlabel(\"Country\")\n",
    "axes[1].tick_params(axis=\"x\", rotation=45)\n",
    "\n",
    "axes[2].bar(grade_13_counts.index, grade_13_counts.values, color=\"tomato\")\n",
    "axes[2].set_title(\"Country Distribution - 13th Grade\")\n",
    "axes[2].set_xlabel(\"Country\")\n",
    "axes[2].tick_params(axis=\"x\", rotation=45)\n",
    "\n",
    "plt.tight_layout()\n",
    "plt.show()"
   ]
  },
  {
   "cell_type": "markdown",
   "id": "60e952d8",
   "metadata": {},
   "source": [
    "It is also essential to examine the correlation between all dataset features and the target variable (Avg Math Result). This helps identify which features are strongly associated with students performance and can be considered in the next step for feature selection.\n",
    "\n",
    "We computed this correlation, and the top 20 features were visualized in a table."
   ]
  },
  {
   "cell_type": "code",
   "execution_count": null,
   "id": "f8e803cc",
   "metadata": {},
   "outputs": [],
   "source": [
    "correl = (\n",
    "    student.corr(numeric_only=True)[\"Avg Math Result\"]\n",
    "    .abs()\n",
    "    .sort_values(ascending=False)\n",
    ")"
   ]
  },
  {
   "cell_type": "code",
   "execution_count": null,
   "id": "a7f9752d",
   "metadata": {},
   "outputs": [],
   "source": [
    "top_corr = correl.drop(\"Avg Math Result\").head(20)\n",
    "\n",
    "top_corr_df = top_corr.reset_index()\n",
    "top_corr_df.columns = [\"Feature\", \"Correlation with Math Result\"]\n",
    "display(top_corr_df)"
   ]
  },
  {
   "cell_type": "markdown",
   "id": "fc9acdf4",
   "metadata": {},
   "source": [
    "The top features obtained are plausible values, which can be averaged, similar to the approach we used to calculate the Math Result.\n",
    "\n",
    "Some of these features represent subscales of mathematics, and can be removed from the dataset in the next phase, as they are already captured by the aggregated Math Result score."
   ]
  },
  {
   "cell_type": "markdown",
   "id": "47bd933a",
   "metadata": {},
   "source": [
    "### Categorical Values analysis \n"
   ]
  },
  {
   "cell_type": "markdown",
   "id": "5c5fbe1b",
   "metadata": {},
   "source": [
    "Regarding the categorical values, there are a few of them that are country specific. Since this study focuses on identifying global trends, we chose not to include these variables in our analysis.\n",
    "\n",
    "Country specific codes:\n",
    "\n",
    "- ST250D06JA\n",
    "- ST250D07JA\n",
    "- ST251D08JA\n",
    "- ST251D09JA\n",
    "- ST330D10WA \n",
    "- PROGN\n",
    "\n",
    "Additionally, the codes \"CNT\", \"NatCen\", \"STRATUM\" and \"SUBNATION\" are all related to the student's country/region. To reduce the dimensionality of the dataset, we decided to retain only \"CNT\", as it effectively aggregates the information from the others.\n",
    "\n",
    "\"COBN_S\", \"COBN_M\" and \"COBN_F\" represent the country of birth of the student, mother and father, respectively. This were excluded to avoid increasing the dimensionality with features that are strongly correlated with \"CNT\".\n",
    "\n",
    "\"OCOD1\", \"OCOD2\" and \"OCOD3\" represent the occupation of the student, mother and father. While potentially insightful, occupational data can be highly country-dependent due to cultural and economic differences. For this reason, we chose not to include them in the current analysis.\n",
    "\n",
    "Finally, \"VER_DAT\" was removed, as it only contains the questionnaire date, which is not relevant to our study.\n",
    "\n",
    "\n",
    "\"CNT\" (Country) is the only remaining categorical variable, but it contains a large number of distinct values, and it needs to be grouped into fewer categories to avoid high dimensionality in future approaches such as One-Hot Encoding."
   ]
  },
  {
   "cell_type": "markdown",
   "id": "f1a07283",
   "metadata": {},
   "source": [
    "## 2.4 Verify data quality"
   ]
  },
  {
   "cell_type": "markdown",
   "id": "ed0243b9",
   "metadata": {},
   "source": [
    "In this step we started by checking missing values in the dataset.\n",
    "\n",
    "We've decided that variables with more than 70% missing data can lead to biased results, so they should be removed from the dataset in the future."
   ]
  },
  {
   "cell_type": "code",
   "execution_count": null,
   "id": "64f039f2",
   "metadata": {},
   "outputs": [],
   "source": [
    "print(\"\\n--- Missing Values ---\")\n",
    "missing = student.isnull().mean().sort_values(ascending=False)\n",
    "print(missing[missing > 0.7])"
   ]
  },
  {
   "cell_type": "markdown",
   "id": "e6ca812f",
   "metadata": {},
   "source": [
    "We've also done a sanity check to see if there were any duplicated rows or columns, but there were no cases in this dataset."
   ]
  },
  {
   "cell_type": "code",
   "execution_count": null,
   "id": "f4e64f59",
   "metadata": {},
   "outputs": [],
   "source": [
    "print(\"\\n--- Duplicated Rows ---\")\n",
    "duplicated_rows = student.duplicated().sum()\n",
    "print(f\"Duplicated rows: {duplicated_rows}\")\n",
    "\n",
    "print(\"\\n--- Duplicated Columns ---\")\n",
    "duplicated_columns = student.T.duplicated().sum()\n",
    "print(f\"Duplicated columns: {duplicated_columns}\")\n"
   ]
  }
 ],
 "metadata": {
  "kernelspec": {
   "display_name": "Python 3",
   "language": "python",
   "name": "python3"
  },
  "language_info": {
   "codemirror_mode": {
    "name": "ipython",
    "version": 3
   },
   "file_extension": ".py",
   "mimetype": "text/x-python",
   "name": "python",
   "nbconvert_exporter": "python",
   "pygments_lexer": "ipython3",
   "version": "3.11.11"
  }
 },
 "nbformat": 4,
 "nbformat_minor": 5
}
