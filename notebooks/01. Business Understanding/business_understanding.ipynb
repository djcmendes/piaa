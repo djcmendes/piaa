{
 "cells": [
  {
   "cell_type": "markdown",
   "metadata": {},
   "source": [
    "# Projeto PIAA"
   ]
  },
  {
   "cell_type": "markdown",
   "metadata": {},
   "source": [
    "Base de dados utilizada (PISA): https://www.oecd.org/en/data/datasets/pisa-2022-database.html"
   ]
  },
  {
   "cell_type": "markdown",
   "metadata": {},
   "source": [
    "### Objetivos:\n",
    "\n",
    "O objetivo deste projeto é analisar a base de dados PISA, uma base de dados no setor da educação, e encontrar correlações que expliquem alguns comportamentos dos alunos.\n",
    "\n",
    "Dentro de uma lista de questões sugeridas, começámos pela seguinte:\n",
    "\n",
    "1) Perfil dos alunos repetentes no PISA. Que variáveis contribuem para a explicação do seu desempenho a matemática? Como evoluiu ao longo dos vários ciclos de avaliação?\n",
    "\n",
    "\n",
    "Outras questões a explorar :\n",
    "\n",
    "2) Que estratégias pedagógicas desenvolvidas pelos professores parecem ser promotoras de melhores desempenhos a leitura (PISA 2018 - dados de contexto dos professores)? E que estratégias pedagógicas, segundo a perspetiva dos alunos, parecem ser promotoras de melhores desempenhos a leitura (PISA 2018 - dados de contexto dos alunos)? E têm, professores e alunos, as mesmas perceções?  \n",
    "\n",
    "3) Perfil dos alunos dos cursos vocacionais e profissionais no PISA. Que variáveis contribuem para a explicação do seu desempenho a matemática? Como evoluiu ao longo dos vários ciclos de avaliação?\n"
   ]
  },
  {
   "cell_type": "markdown",
   "metadata": {},
   "source": [
    "### Informações dos dados:\n",
    "\n",
    "Os dados do PISA correspondem a respostas de múltiplos questionários preenchidos no ano anterior. Os questionários direcionados aos alunos foram medidos em adolescentes de 15 anos."
   ]
  },
  {
   "cell_type": "markdown",
   "metadata": {},
   "source": [
    "### Informações técnicas:\n",
    "\n",
    "1. Certas variáveis nos datasets não estão presentes nos questionários. Estas variáveis são calculadas com base em algumas das perguntas do questionário, e medem alguns índices como por exemplo \"Creative Activities outside of school\" (CREATOOS), e são calculadas através de WLE (Weighted likelihood estimates)\n",
    "\n",
    "2. O dataset dos estudantes contém informações de vários questionários: \n",
    "- Códigos ST são respostas ao questionário Student (computer ou paper based)\n",
    "- Códigos FL são respostas ao questionário Financial Literacy\n",
    "- Códigos IC são respostas ao questionário ICT\n",
    "- Códigos WB são respostas ao questionário Well-being\n",
    "- Códigos PA são respostas ao questionário Parent\n",
    "\n",
    "\n",
    "3. Parâmetro REPEAT - Se for 1 indica que repetiu um ano pelo menos uma vez\n"
   ]
  }
 ],
 "metadata": {
  "language_info": {
   "name": "python"
  }
 },
 "nbformat": 4,
 "nbformat_minor": 2
}
