{
 "cells": [
  {
   "cell_type": "markdown",
   "id": "0c96a3fd-c032-4772-b355-4e60f4c46fa9",
   "metadata": {
    "tags": []
   },
   "source": [
    "# Exercícios: Análise e manipulação de dados "
   ]
  },
  {
   "cell_type": "code",
   "execution_count": null,
   "id": "f94b7e85-04f9-434e-9406-a60ad1a64480",
   "metadata": {},
   "outputs": [],
   "source": [
    "import os\n",
    "\n",
    "import numpy as np\n",
    "import pandas as pd\n",
    "\n",
    "%matplotlib inline\n",
    "import matplotlib.pyplot as plt\n",
    "import seaborn as sns\n",
    "\n",
    "sns.set_theme()"
   ]
  },
  {
   "cell_type": "markdown",
   "id": "327c6efc-586b-4466-a419-c6d3b1bab79d",
   "metadata": {
    "tags": []
   },
   "source": [
    "## Parte 1: Dados de utilizadores de cartões de crédito\n",
    "\n",
    "Carregue o conjunto de dados [Credit Card Customers](https://www.kaggle.com/sakshigoyal7/credit-card-customers), guardado no ficheiro Excel definido pela variável `xlxs_file_path`, para uma tabela de dados da biblioteca [Pandas](https://pandas.pydata.org/)."
   ]
  },
  {
   "cell_type": "code",
   "execution_count": null,
   "id": "d13a366c-668c-4644-88aa-ceef7af526f1",
   "metadata": {},
   "outputs": [],
   "source": [
    "data_path = '../data/' if os.path.exists('../data/') else 'https://raw.githubusercontent.com/TheAwesomeGe/DECD/main/data/'\n",
    "xlsx_file_path = data_path + 'BankChurners.xlsx'"
   ]
  },
  {
   "cell_type": "code",
   "execution_count": null,
   "id": "dab248fd-c2e7-4292-88bb-617a8469730d",
   "metadata": {},
   "outputs": [],
   "source": []
  },
  {
   "cell_type": "markdown",
   "id": "5f498ed7-1b9b-42d3-bef2-d6acc6f0afb0",
   "metadata": {
    "tags": []
   },
   "source": [
    "Realize as seguintes etapas de pré-processamento de dados:\n",
    "\n",
    "1. Verifique que a importação foi bem sucedida e analise as primeiras entradas do conjunto de dados."
   ]
  },
  {
   "cell_type": "code",
   "execution_count": null,
   "id": "66a86a25-7e7f-4a9e-a7dd-303f8852c3b7",
   "metadata": {},
   "outputs": [],
   "source": []
  },
  {
   "cell_type": "markdown",
   "id": "32044f25-1867-46f1-8f6e-949b8d651968",
   "metadata": {
    "tags": []
   },
   "source": [
    "2. Remova os seguintes atributos:\n",
    "    * o número de cliente (uma vez que os identificadores locais não são informação útil para tarefas de descoberta de padrões)\n",
    "    * as características discriminatórias de género, por forma a que os resultados não sejam enviesados por estes atributos (o que seria pouco ético e, de certa forma, ilegal segundo a lei portuguesa)"
   ]
  },
  {
   "cell_type": "code",
   "execution_count": null,
   "id": "75a71036-74c2-4d5b-9b00-30307e883bb0",
   "metadata": {},
   "outputs": [],
   "source": []
  },
  {
   "cell_type": "markdown",
   "id": "65980f72-906b-4cf1-94df-b65f956d4b26",
   "metadata": {},
   "source": [
    "3. Defina como categóricos os seguintes atributos: `Education_Level`, `Marital_Status`, `Income_Category`, `Card_Category` e `Attrition_Flag`."
   ]
  },
  {
   "cell_type": "code",
   "execution_count": null,
   "id": "30a4698f-7512-4e8e-ab44-105a29d76fae",
   "metadata": {},
   "outputs": [],
   "source": []
  },
  {
   "cell_type": "markdown",
   "id": "1b764dec-9139-4538-8cab-73a73b01fe75",
   "metadata": {},
   "source": [
    "4. Defina o atributo `Attrition_Flag` como *target*, criando um dicionário que mapeia um inteiro diferente para cada um dos valores possíveis deste atributo."
   ]
  },
  {
   "cell_type": "code",
   "execution_count": null,
   "id": "246d4185-47e4-4bf1-a2a5-ffb3fe169964",
   "metadata": {},
   "outputs": [],
   "source": []
  },
  {
   "cell_type": "markdown",
   "id": "f9c4452a-6ab4-4720-bbbb-3d86c624f3a7",
   "metadata": {
    "tags": []
   },
   "source": [
    "5. Guarde uma cópia dos dados num ficheiro Excel com o nome *credito.xlsx*."
   ]
  },
  {
   "cell_type": "code",
   "execution_count": null,
   "id": "3657111d-43c7-4ffe-9dc1-88172b0a2abd",
   "metadata": {},
   "outputs": [],
   "source": []
  },
  {
   "cell_type": "markdown",
   "id": "861df05d-499f-4141-88aa-0a7cc413ed59",
   "metadata": {},
   "source": [
    "6. Identifique os atributos que têm valores em falta. (**Nota**: Neste conjunto de dados, os valores em falta são representados pelo valor `'Unknown'`. Comece por aplicar o método `replace('Unknown', np.nan)` sobre a tabela de dados.)"
   ]
  },
  {
   "cell_type": "code",
   "execution_count": null,
   "id": "d29dde2c-5371-4d6f-b6ee-a14d90c0baf9",
   "metadata": {},
   "outputs": [],
   "source": []
  },
  {
   "cell_type": "markdown",
   "id": "427adced-3fcc-405e-ba9b-041e846670b4",
   "metadata": {},
   "source": [
    "7. Utilize imputação para preencher os valores em falta do nível de educação com um valor representativo.  "
   ]
  },
  {
   "cell_type": "code",
   "execution_count": null,
   "id": "39276c08-bf37-482f-957d-3f8918b51269",
   "metadata": {},
   "outputs": [],
   "source": []
  },
  {
   "cell_type": "markdown",
   "id": "8a8fe385-a5ce-45ea-aba6-a4722255fc78",
   "metadata": {},
   "source": [
    "8. Descarte as restantes observações com valores em falta."
   ]
  },
  {
   "cell_type": "code",
   "execution_count": null,
   "id": "968b2750-c321-4dd9-abd9-753741500f70",
   "metadata": {},
   "outputs": [],
   "source": []
  },
  {
   "cell_type": "markdown",
   "id": "dea08400-c74d-4371-acb8-e0b6162e5c7c",
   "metadata": {},
   "source": [
    "9. Binarize o atributo categórico `Attrition_Flag`."
   ]
  },
  {
   "cell_type": "code",
   "execution_count": null,
   "id": "7911879c-cacc-4d8b-8047-00692255f805",
   "metadata": {},
   "outputs": [],
   "source": []
  },
  {
   "cell_type": "markdown",
   "id": "51a08864-78b8-442c-9837-ee37e1f461ba",
   "metadata": {
    "tags": []
   },
   "source": [
    "10. Calcule as correlações entre os atributos numéricos do conjunto de dados e visualize-as usando um mapa de calor."
   ]
  },
  {
   "cell_type": "code",
   "execution_count": null,
   "id": "0d6f07c5-51cc-4c64-8ed4-168bb2238bfa",
   "metadata": {},
   "outputs": [],
   "source": []
  },
  {
   "cell_type": "markdown",
   "id": "4ef8ecb3-2bce-4e82-ad9b-cf3e3abf7d83",
   "metadata": {},
   "source": [
    "11. Visualize como se relacionam os dois atributos a correlação mais alta."
   ]
  },
  {
   "cell_type": "code",
   "execution_count": null,
   "id": "a76759b0-ace7-4451-9063-0aed7b0386e8",
   "metadata": {},
   "outputs": [],
   "source": []
  },
  {
   "cell_type": "markdown",
   "id": "56c6e471-aee1-4743-827c-158783a58f00",
   "metadata": {
    "tags": []
   },
   "source": [
    "9. Verifique se os atributos `Credit_Limit` e `Dependent_count` têm *outliers*. Em caso afirmativo, conte-os. (**Sugestão**: [How To Find Outliers in Data Using Python (and How To Handle Them)](https://careerfoundry.com/en/blog/data-analytics/how-to-find-outliers/#how-to-find-outliers))"
   ]
  },
  {
   "cell_type": "code",
   "execution_count": null,
   "id": "eb0370ab-411a-4303-a7fc-7e576ea0ee47",
   "metadata": {},
   "outputs": [],
   "source": []
  },
  {
   "cell_type": "markdown",
   "id": "0c028117-a81d-4fd6-96b2-b9df3b3a0c9e",
   "metadata": {},
   "source": [
    "## Parte 2 - Desempenho académico\n",
    "\n",
    "Carregue o conjunto de dados [Students' Academic Performance Dataset](https://www.kaggle.com/datasets/aljarah/xAPI-Edu-Data), guardado no ficheiro CSV definido pela variável `csv_file_path` e faça uma análise semelhante à realizada com o conjunto de dados sobre clientes de cartões de crédito."
   ]
  },
  {
   "cell_type": "code",
   "execution_count": null,
   "id": "be8d3f26-f7c2-46a8-90b8-0b9c66affd73",
   "metadata": {},
   "outputs": [],
   "source": [
    "csv_file_path = data_path + 'xAPI-Edu-Data.csv'"
   ]
  },
  {
   "cell_type": "code",
   "execution_count": null,
   "id": "8fc04838-fc80-472c-a729-d1f2f6ba7d9d",
   "metadata": {},
   "outputs": [],
   "source": []
  }
 ],
 "metadata": {
  "kernelspec": {
   "display_name": "Python 3 (ipykernel)",
   "language": "python",
   "name": "python3"
  },
  "language_info": {
   "codemirror_mode": {
    "name": "ipython",
    "version": 3
   },
   "file_extension": ".py",
   "mimetype": "text/x-python",
   "name": "python",
   "nbconvert_exporter": "python",
   "pygments_lexer": "ipython3",
   "version": "3.10.10"
  }
 },
 "nbformat": 4,
 "nbformat_minor": 5
}
