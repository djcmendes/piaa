{
 "cells": [
  {
   "metadata": {},
   "cell_type": "markdown",
   "source": [
    "# 4. Modeling\n",
    "\n",
    "### **4.1 Select Modeling Technique**\n",
    "\n",
    "**Task Select Modeling Technique**\n",
    "\n",
    "As the first step in modeling, select the actual modeling technique which\n",
    "is used now. Whereas you possibly already selected a tool in business\n",
    "understanding, this task refers to the specific modeling technique, e.g.,\n",
    "decision tree building with C4.5 or neural network generation with back\n",
    "propagation. If multiple techniques are applied, perform this task for each\n",
    "technique separately.\n",
    "\n",
    "**Outputs Modeling Technique**\n",
    "This output refers to the actual modeling technique which is used.\n",
    "\n",
    "**Modeling Assumptions**\n",
    "\n",
    "Many modeling techniques make specific assumptions on the data, e.g.,\n",
    "all attributes have uniform distributions, no missing values allowed, class\n",
    "attribute must be symbolic etc."
   ]
  },
  {
   "metadata": {},
   "cell_type": "markdown",
   "source": [
    "### **4.2 Generate Test Design**\n",
    "\n",
    "**Task Generate Test Design**\n",
    "\n",
    "Before we actually build a model, we need to generate a procedure or\n",
    "mechanism how to test the model's quality and validity. For example, in\n",
    "supervised data mining tasks such as classification, it is common to use\n",
    "error rates as quality measures for data mining models. Therefore, we\n",
    "typically separated the data set into train and test set, build the model on\n",
    "the train set, and estimate its quality on the separate test set.\n",
    "\n",
    "**Output Test Design**\n",
    "\n",
    "This deliverable describes the intended plan for training, testing, and\n",
    "evaluating the models. A primary component of the plan is to decide how\n",
    "to divide the available data set into training data, test data, and validation\n",
    "data sets"
   ]
  },
  {
   "metadata": {},
   "cell_type": "markdown",
   "source": [
    "### 4.3 Build Model\n",
    "\n",
    "**Task Build Model**\n",
    "\n",
    "Run the modeling tool on the prepared data set to create one or more\n",
    "models.\n",
    "\n",
    "**Outputs Parameter Settings**\n",
    "\n",
    "With any modeling tool, there are often a large number of parameters that\n",
    "can be adjusted. This report lists the parameters and their chosen value,\n",
    "along with rationale for the choice of parameter settings.\n",
    "\n",
    "**Models**\n",
    "\n",
    "These are the actual models produced by the modeling tool, not a report.\n",
    "\n",
    "**Model Description**\n",
    "\n",
    "Describe the resultant model. Report on the interpretation of the models\n",
    "and any difficulties encountered with their meanings."
   ]
  },
  {
   "metadata": {},
   "cell_type": "markdown",
   "source": [
    "### 4.4 Assess Model\n",
    "\n",
    "**Task Assess Model**\n",
    "\n",
    "The data mining engineer interprets the models according to his domain\n",
    "knowledge, data mining success criteria, and the desired test design. This\n",
    "task interferes with the subsequent evaluation phase. Whereas the data\n",
    "mining engineer judges the success of the application of modeling and\n",
    "discovery techniques more technically, he contacts business analysts and\n",
    "domain experts later in order to discuss the data mining results in the\n",
    "business context. Moreover, this task only considers models whereas the\n",
    "evaluation phase also takes into account all other results which were\n",
    "produced in the course of the project.\n",
    "\n",
    "The data mining engineer tries to rank the results. He assesses the models\n",
    "according to the evaluation criteria. As far as possible he also takes into\n",
    "account business objectives and business success criteria. In most data\n",
    "mining projects, the data mining engineer applies a single technique more\n",
    "than once or generates data mining results with different alternative\n",
    "techniques. In this task, he also compares all results according to the\n",
    "evaluation criteria.\n",
    "\n",
    "**Outputs Model Assessment**\n",
    "\n",
    "Summarizes results of this task, lists qualities of generated models (e.g.,\n",
    "in terms of accuracy), and ranks their quality in relation to each other.\n",
    "\n",
    "**Revised Parameter Settings**\n",
    "\n",
    "According to the model assessment, revise parameter settings and tune\n",
    "them for the next run in task build model. Iterate model building and\n",
    "assessment until you strongly believe that you found the best model(s).\n"
   ]
  }
 ],
 "metadata": {
  "language_info": {
   "name": "python"
  }
 },
 "nbformat": 4,
 "nbformat_minor": 2
}
