{
 "cells": [
  {
   "cell_type": "markdown",
   "id": "3c043a26",
   "metadata": {},
   "source": [
    "# 3. Data Preparation\n",
    "\n",
    "In this phase we will prepare the dataset, modifying it according to the previous phase. In the end of this notebook we should have a dataset ready to be used in modelling."
   ]
  },
  {
   "cell_type": "markdown",
   "id": "5ceb5642",
   "metadata": {},
   "source": [
    "## 3.1 Select Data\n",
    "\n",
    "We begin by loading the complete raw data so that we have more flexibility in the preparation of the data.\n",
    "\n",
    "The selection of the most relevant variables will be done in the next steps."
   ]
  },
  {
   "cell_type": "code",
   "id": "fc2f42cf",
   "metadata": {
    "ExecuteTime": {
     "end_time": "2025-06-09T17:52:46.843415Z",
     "start_time": "2025-06-09T17:52:06.350901Z"
    }
   },
   "source": [
    "import pandas as pd\n",
    "\n",
    "student = pd.read_csv(\"../../../databases/2018/student2018.csv\")\n",
    "teacher = pd.read_csv(\"../../../databases/2018/only_teacher2018.csv\")\n",
    "\n",
    "#student = pd.read_csv(\"../../../databases/2018/student2018.csv\", nrows=2000)\n",
    "#teacher = pd.read_csv(\"../../../databases/2018/only_teacher2018.csv\", nrows=2000)\n",
    "\n",
    "print(\"student shape:\", student.shape)\n",
    "print(\"teacher shape:\", teacher.shape)\n"
   ],
   "outputs": [
    {
     "name": "stdout",
     "output_type": "stream",
     "text": [
      "student shape: (612004, 1119)\n",
      "teacher shape: (107367, 350)\n"
     ]
    }
   ],
   "execution_count": 1
  },
  {
   "cell_type": "markdown",
   "id": "1edaac1d",
   "metadata": {},
   "source": [
    "## 3.2 Clean Data\n",
    "\n",
    "From the previous phase, we decided to remove unnecessary variables according the following criteria:"
   ]
  },
  {
   "cell_type": "markdown",
   "id": "c0bbfbe86cb5fc46",
   "metadata": {},
   "source": [
    "#### Students data\n",
    "- Remove countries not in teacher dataset"
   ]
  },
  {
   "cell_type": "markdown",
   "id": "3dddad4461576eaf",
   "metadata": {},
   "source": [
    "- We've metion in section 2 that we should remove this columns from student dataset: `\"CNT\", \"NatCen\", \"PROGN\", \"STRATUM\",\"SUBNATION\", \"COBN_S\", \"COBN_M\", \"COBN_F\", \"OCOD1\", \"OCOD2\", \"OCOD3\", \"VER_DAT\",\"CYC\", \"W_FSTUWT\",\"W_FSTURWT{i}\",\"i\", \"SENWT\", \"WVARSTRR\", \"UNIT\",\"BOOKID\", \"LANGTEST_QQQ\", \"LANGTEST_COG\" \"LANGTEST_PAQ\", \"ADMINMODE\"`\n",
    "- Variables with more than 80% missing values.\n",
    "\n",
    "#### Teacher data\n",
    "\n",
    "- We've metion in section 2 that we should remove this columns from student dataset: `\"NatCen\", \"PROGN\", \"STRATUM\", \"SUBNATION\", \"COBN_T\", \"VER_DAT\", \"CYC\", \"W_SCHGRNRABWT\", \"W_FSTUWT_SCH_SUM\", \"LANGTEST\", \"ADMINMODE\"`\n",
    "- Variables with more than 80% missing values."
   ]
  },
  {
   "cell_type": "code",
   "id": "f749c9de",
   "metadata": {
    "ExecuteTime": {
     "end_time": "2025-06-09T17:52:50.588662Z",
     "start_time": "2025-06-09T17:52:47.411007Z"
    }
   },
   "source": [
    "print(\"Shape before\", student.shape)\n",
    "\n",
    "w_fsturwt_columns = [f\"W_FSTURWT{i}\" for i in range(1, 81)]\n",
    "\n",
    "# Lista de colunas a remover\n",
    "columns_to_drop = [\n",
    "    \"NatCen\", \"PROGN\", \"STRATUM\", \"SUBNATION\", \"COBN_S\", \"COBN_M\", \"COBN_F\",\n",
    "    \"OCOD1\", \"OCOD2\", \"OCOD3\", \"VER_DAT\", \"CYC\", \"W_FSTUWT\", \"i\",\n",
    "    \"SENWT\", \"WVARSTRR\", \"UNIT\", \"BOOKID\", \"LANGTEST_QQQ\", \"LANGTEST_COG\",\n",
    "    \"LANGTEST_PAQ\", \"ADMINMODE\"\n",
    "] + w_fsturwt_columns\n",
    "\n",
    "# Remover as colunas do DataFrame\n",
    "student = student.drop(columns=columns_to_drop, errors='ignore')\n",
    "\n",
    "missing = student.isnull().mean().sort_values(ascending=False)\n",
    "student = student.drop(columns=missing[missing > 0.8].index)\n",
    "\n",
    "# we wont need the sutudents data\n",
    "\n",
    "columns_to_keep = [\n",
    "'PV1READ', 'PV2READ', 'PV3READ', 'PV4READ', 'PV5READ', 'PV6READ', 'PV7READ', 'PV8READ', 'PV9READ', 'PV10READ',\n",
    "'PV1SCIE', 'PV2SCIE', 'PV3SCIE', 'PV4SCIE', 'PV5SCIE', 'PV6SCIE', 'PV7SCIE', 'PV8SCIE', 'PV9SCIE', 'PV10SCIE',\n",
    "'PV1MATH', 'PV2MATH', 'PV3MATH', 'PV4MATH', 'PV5MATH', 'PV6MATH', 'PV7MATH', 'PV8MATH', 'PV9MATH', 'PV10MATH',\n",
    "'CNT', 'CNTSCHID', 'REPEAT', 'ST001D01T', 'CNTSTUID'\n",
    "]\n",
    "\n",
    "student = student[columns_to_keep]\n",
    "student.head(5)\n",
    "print(\"Shape after\", student.shape)"
   ],
   "outputs": [
    {
     "name": "stdout",
     "output_type": "stream",
     "text": [
      "Shape before (612004, 1119)\n",
      "Shape after (612004, 35)\n"
     ]
    }
   ],
   "execution_count": 2
  },
  {
   "cell_type": "markdown",
   "id": "ac5805b5cdc57fc6",
   "metadata": {},
   "source": [
    "#### Teachers data"
   ]
  },
  {
   "cell_type": "code",
   "id": "50ba9d199f48c4ad",
   "metadata": {
    "ExecuteTime": {
     "end_time": "2025-06-09T17:52:50.801796Z",
     "start_time": "2025-06-09T17:52:50.599428Z"
    }
   },
   "source": [
    "# Lista de colunas a remover\n",
    "columns_to_drop = [\n",
    "    \"NatCen\", \"PROGN\", \"STRATUM\", \"SUBNATION\", \"COBN_T\", \"VER_DAT\",\n",
    "    \"CYC\", \"W_SCHGRNRABWT\", \"W_FSTUWT_SCH_SUM\", \"LANGTEST\", \"ADMINMODE\"\n",
    "]\n",
    "\n",
    "# Remover as colunas do DataFrame\n",
    "teacher = teacher.drop(columns=columns_to_drop, errors='ignore')\n",
    "\n",
    "missing = teacher.isnull().mean().sort_values(ascending=False)\n",
    "teacher = teacher.drop(columns=missing[missing > 0.8].index)\n",
    "\n",
    "teacher.head(5)\n",
    "print(\"Shape after\", teacher.shape)\n",
    "\n",
    "del missing\n"
   ],
   "outputs": [
    {
     "name": "stdout",
     "output_type": "stream",
     "text": [
      "Shape after (107367, 341)\n"
     ]
    }
   ],
   "execution_count": 3
  },
  {
   "cell_type": "code",
   "id": "470f3e3189414709",
   "metadata": {
    "ExecuteTime": {
     "end_time": "2025-06-09T17:52:50.823081Z",
     "start_time": "2025-06-09T17:52:50.819901Z"
    }
   },
   "source": [
    "print(\"Before student shape: (612004, 1119)\")\n",
    "print(\"Before teacher shape: (107367, 350)\")\n",
    "\n",
    "print(\"student shape:\", student.shape)\n",
    "print(\"teacher shape:\", teacher.shape)"
   ],
   "outputs": [
    {
     "name": "stdout",
     "output_type": "stream",
     "text": [
      "Before student shape: (612004, 1119)\n",
      "Before teacher shape: (107367, 350)\n",
      "student shape: (612004, 35)\n",
      "teacher shape: (107367, 341)\n"
     ]
    }
   ],
   "execution_count": 4
  },
  {
   "cell_type": "markdown",
   "id": "1835a248",
   "metadata": {},
   "source": [
    "## 3.3 Construct Data\n",
    "\n",
    "In this step, we construct new variables based on the available data.\n",
    "\n",
    "For each subject, there are 10 plausible values (PVs), which we averaged into a single score column per subject."
   ]
  },
  {
   "cell_type": "code",
   "id": "3a403736",
   "metadata": {
    "ExecuteTime": {
     "end_time": "2025-06-09T17:52:52.081608Z",
     "start_time": "2025-06-09T17:52:50.837266Z"
    }
   },
   "source": [
    "from columns_list_q2 import (\n",
    "    get_avg_results,\n",
    "    drop_columns,\n",
    "    math_columns,\n",
    "    reading_columns,\n",
    "    science_columns\n",
    ")\n",
    "\n",
    "student = get_avg_results(student, reading_columns, \"Reading\", None)\n",
    "student = get_avg_results(student, math_columns, \"Math\", None)\n",
    "student = get_avg_results(student, science_columns, \"Science\", None)\n",
    "\n",
    "student = drop_columns(student)\n",
    "\n",
    "del math_columns\n",
    "del reading_columns\n",
    "del science_columns"
   ],
   "outputs": [],
   "execution_count": 5
  },
  {
   "cell_type": "code",
   "id": "c21d8b04",
   "metadata": {
    "ExecuteTime": {
     "end_time": "2025-06-09T17:52:52.104859Z",
     "start_time": "2025-06-09T17:52:52.093490Z"
    }
   },
   "source": [
    "student.head(5)"
   ],
   "outputs": [
    {
     "data": {
      "text/plain": [
       "      CNT  CNTSCHID  REPEAT  ST001D01T  CNTSTUID  Avg Reading Result  \\\n",
       "0  b'ALB'  800115.0     0.0       10.0  800001.0            360.9820   \n",
       "1  b'ALB'  800300.0     0.0       10.0  800002.0            334.3425   \n",
       "2  b'ALB'  800088.0     0.0        9.0  800003.0            277.4818   \n",
       "3  b'ALB'  800014.0     NaN       10.0  800004.0            339.2181   \n",
       "4  b'ALB'  800294.0     0.0       10.0  800005.0            469.8993   \n",
       "\n",
       "   Avg Math Result  Avg Science Result  \n",
       "0         460.4839            378.8231  \n",
       "1         342.9813            323.4757  \n",
       "2         350.4633            333.2035  \n",
       "3         329.1474            354.7029  \n",
       "4         389.0078            450.5653  "
      ],
      "text/html": [
       "<div>\n",
       "<style scoped>\n",
       "    .dataframe tbody tr th:only-of-type {\n",
       "        vertical-align: middle;\n",
       "    }\n",
       "\n",
       "    .dataframe tbody tr th {\n",
       "        vertical-align: top;\n",
       "    }\n",
       "\n",
       "    .dataframe thead th {\n",
       "        text-align: right;\n",
       "    }\n",
       "</style>\n",
       "<table border=\"1\" class=\"dataframe\">\n",
       "  <thead>\n",
       "    <tr style=\"text-align: right;\">\n",
       "      <th></th>\n",
       "      <th>CNT</th>\n",
       "      <th>CNTSCHID</th>\n",
       "      <th>REPEAT</th>\n",
       "      <th>ST001D01T</th>\n",
       "      <th>CNTSTUID</th>\n",
       "      <th>Avg Reading Result</th>\n",
       "      <th>Avg Math Result</th>\n",
       "      <th>Avg Science Result</th>\n",
       "    </tr>\n",
       "  </thead>\n",
       "  <tbody>\n",
       "    <tr>\n",
       "      <th>0</th>\n",
       "      <td>b'ALB'</td>\n",
       "      <td>800115.0</td>\n",
       "      <td>0.0</td>\n",
       "      <td>10.0</td>\n",
       "      <td>800001.0</td>\n",
       "      <td>360.9820</td>\n",
       "      <td>460.4839</td>\n",
       "      <td>378.8231</td>\n",
       "    </tr>\n",
       "    <tr>\n",
       "      <th>1</th>\n",
       "      <td>b'ALB'</td>\n",
       "      <td>800300.0</td>\n",
       "      <td>0.0</td>\n",
       "      <td>10.0</td>\n",
       "      <td>800002.0</td>\n",
       "      <td>334.3425</td>\n",
       "      <td>342.9813</td>\n",
       "      <td>323.4757</td>\n",
       "    </tr>\n",
       "    <tr>\n",
       "      <th>2</th>\n",
       "      <td>b'ALB'</td>\n",
       "      <td>800088.0</td>\n",
       "      <td>0.0</td>\n",
       "      <td>9.0</td>\n",
       "      <td>800003.0</td>\n",
       "      <td>277.4818</td>\n",
       "      <td>350.4633</td>\n",
       "      <td>333.2035</td>\n",
       "    </tr>\n",
       "    <tr>\n",
       "      <th>3</th>\n",
       "      <td>b'ALB'</td>\n",
       "      <td>800014.0</td>\n",
       "      <td>NaN</td>\n",
       "      <td>10.0</td>\n",
       "      <td>800004.0</td>\n",
       "      <td>339.2181</td>\n",
       "      <td>329.1474</td>\n",
       "      <td>354.7029</td>\n",
       "    </tr>\n",
       "    <tr>\n",
       "      <th>4</th>\n",
       "      <td>b'ALB'</td>\n",
       "      <td>800294.0</td>\n",
       "      <td>0.0</td>\n",
       "      <td>10.0</td>\n",
       "      <td>800005.0</td>\n",
       "      <td>469.8993</td>\n",
       "      <td>389.0078</td>\n",
       "      <td>450.5653</td>\n",
       "    </tr>\n",
       "  </tbody>\n",
       "</table>\n",
       "</div>"
      ]
     },
     "execution_count": 6,
     "metadata": {},
     "output_type": "execute_result"
    }
   ],
   "execution_count": 6
  },
  {
   "cell_type": "code",
   "id": "bf56b9a549d03875",
   "metadata": {
    "ExecuteTime": {
     "end_time": "2025-06-09T17:52:52.138745Z",
     "start_time": "2025-06-09T17:52:52.136348Z"
    }
   },
   "source": [
    "print(\"student shape:\", student.shape)\n",
    "print(\"teacher shape:\", teacher.shape)"
   ],
   "outputs": [
    {
     "name": "stdout",
     "output_type": "stream",
     "text": [
      "student shape: (612004, 8)\n",
      "teacher shape: (107367, 341)\n"
     ]
    }
   ],
   "execution_count": 7
  },
  {
   "cell_type": "markdown",
   "id": "4547863f",
   "metadata": {},
   "source": [
    "## 3.4 Integrate Data"
   ]
  },
  {
   "cell_type": "markdown",
   "id": "6153d86673798175",
   "metadata": {},
   "source": [
    "First save data, to keep memory clean"
   ]
  },
  {
   "cell_type": "code",
   "id": "c584e9aeaef4399b",
   "metadata": {
    "ExecuteTime": {
     "end_time": "2025-06-09T17:53:02.607678Z",
     "start_time": "2025-06-09T17:52:52.191849Z"
    }
   },
   "source": [
    "teacher.to_csv(\"../../../databases/2018/cleaned_teacher2018.csv\", mode=\"w\", index=False)\n",
    "student.to_csv(\"../../../databases/2018/cleaned_students2018.csv\", mode=\"w\", index=False)\n",
    "\n",
    "del teacher\n",
    "del student"
   ],
   "outputs": [],
   "execution_count": 8
  },
  {
   "cell_type": "markdown",
   "id": "33aa08e3f8aebd61",
   "metadata": {},
   "source": "#### Join tables"
  },
  {
   "cell_type": "code",
   "id": "f05a8ecc7754607d",
   "metadata": {
    "ExecuteTime": {
     "end_time": "2025-06-09T17:53:03.180062Z",
     "start_time": "2025-06-09T17:53:03.175624Z"
    }
   },
   "source": [
    "\"\"\"\n",
    "import pandas as pd\n",
    "\n",
    "# Function to load and merge datasets in chunks\n",
    "def init_target_csv():\n",
    "    with open(\"../../../databases/2018/cleaned_teacher_student2018.csv\", 'w') as file:\n",
    "        pass # Do nothing, just open and close the file\n",
    "\n",
    "    df1 = pd.read_csv('../../../databases/2018/cleaned_students2018.csv', nrows=10)\n",
    "    df2 = pd.read_csv('../../../databases/2018/cleaned_teacher2018.csv', nrows=10)\n",
    "\n",
    "    df_result = pd.DataFrame(columns=(df1.columns.append(df2.columns)).unique())\n",
    "    df_result.to_csv(\"../../../databases/2018/cleaned_teacher_student2018.csv\", index_label=False)\n",
    "\n",
    "# Function to load and merge datasets in chunks\n",
    "def get_dataset_in_chunks(chunk_size):\n",
    "    chunks = []\n",
    "    i=0\n",
    "    #teacher = pd.read_csv('../../../databases/2018/cleaned_teacher2018.csv')\n",
    "    #countries = teacher['CNT'].unique()\n",
    "    countries = [\"b'PRT'\", \"b'ESP'\"]\n",
    "    #del teacher\n",
    "\n",
    "    for chunk in pd.read_csv('../../../databases/2018/cleaned_students2018.csv', chunksize=chunk_size):\n",
    "        i=i+1\n",
    "        print(\"i=\",i,flush=True)\n",
    "        #chunk = chunk[columns_to_keep]\n",
    "        chunk = chunk[chunk['CNT'].isin(countries)]\n",
    "\n",
    "        merged_chunk = pd.merge(pd.read_csv('../../../databases/2018/cleaned_teacher2018.csv'), chunk, on=['CNT', 'CNTSCHID'], how=\"outer\")\n",
    "        merged_chunk.to_csv(\"../../../databases/2018/cleaned_teacher_student2018.csv\", mode=\"a\", header=False, index=False)\n",
    "\n",
    "# Define the chunk size\n",
    "chunk_size = 50000 # Adjust the chunk size based on your memory capacity\n",
    "\n",
    "init_target_csv()\n",
    "# Perform the merge in chunks\n",
    "get_dataset_in_chunks(chunk_size)\n",
    "\n",
    "print(\"Merge completed and saved to 'cleaned_teacher_student2018.csv'.\")\n",
    "\"\"\"\n"
   ],
   "outputs": [
    {
     "data": {
      "text/plain": [
       "'\\nimport pandas as pd\\n\\n# Function to load and merge datasets in chunks\\ndef init_target_csv():\\n    with open(\"../../../databases/2018/cleaned_teacher_student2018.csv\", \\'w\\') as file:\\n        pass # Do nothing, just open and close the file\\n\\n    df1 = pd.read_csv(\\'../../../databases/2018/cleaned_students2018.csv\\', nrows=10)\\n    df2 = pd.read_csv(\\'../../../databases/2018/cleaned_teacher2018.csv\\', nrows=10)\\n\\n    df_result = pd.DataFrame(columns=(df1.columns.append(df2.columns)).unique())\\n    df_result.to_csv(\"../../../databases/2018/cleaned_teacher_student2018.csv\", index_label=False)\\n\\n# Function to load and merge datasets in chunks\\ndef get_dataset_in_chunks(chunk_size):\\n    chunks = []\\n    i=0\\n    #teacher = pd.read_csv(\\'../../../databases/2018/cleaned_teacher2018.csv\\')\\n    #countries = teacher[\\'CNT\\'].unique()\\n    countries = [\"b\\'PRT\\'\", \"b\\'ESP\\'\"]\\n    #del teacher\\n\\n    for chunk in pd.read_csv(\\'../../../databases/2018/cleaned_students2018.csv\\', chunksize=chunk_size):\\n        i=i+1\\n        print(\"i=\",i,flush=True)\\n        #chunk = chunk[columns_to_keep]\\n        chunk = chunk[chunk[\\'CNT\\'].isin(countries)]\\n\\n        merged_chunk = pd.merge(pd.read_csv(\\'../../../databases/2018/cleaned_teacher2018.csv\\'), chunk, on=[\\'CNT\\', \\'CNTSCHID\\'], how=\"outer\")\\n        merged_chunk.to_csv(\"../../../databases/2018/cleaned_teacher_student2018.csv\", mode=\"a\", header=False, index=False)\\n\\n# Define the chunk size\\nchunk_size = 50000 # Adjust the chunk size based on your memory capacity\\n\\ninit_target_csv()\\n# Perform the merge in chunks\\nget_dataset_in_chunks(chunk_size)\\n\\nprint(\"Merge completed and saved to \\'cleaned_teacher_student2018.csv\\'.\")\\n'"
      ]
     },
     "execution_count": 9,
     "metadata": {},
     "output_type": "execute_result"
    }
   ],
   "execution_count": 9
  },
  {
   "cell_type": "code",
   "id": "b2771f90e57739cf",
   "metadata": {
    "ExecuteTime": {
     "end_time": "2025-06-09T17:58:05.286506Z",
     "start_time": "2025-06-09T17:53:03.193231Z"
    }
   },
   "source": [
    "import pandas as pd\n",
    "\n",
    "teacher = pd.read_csv('../../../databases/2018/cleaned_teacher2018.csv')\n",
    "print(teacher.shape)\n",
    "output_path = '../../../databases/2018/cleaned_teacher_student2018.csv'\n",
    "teacher = pd.merge(teacher, pd.read_csv('../../../databases/2018/cleaned_students2018.csv'), on=['CNT', 'CNTSCHID'], how='inner')\n",
    "teacher.to_csv(output_path, mode='w', index=False)\n",
    "print(teacher.shape)\n",
    "\n",
    "\"\"\"\n",
    "import pandas as pd\n",
    "\n",
    "columns_to_keep = [\n",
    "'PV1READ', 'PV2READ', 'PV3READ', 'PV4READ', 'PV5READ', 'PV6READ', 'PV7READ', 'PV8READ', 'PV9READ', 'PV10READ',\n",
    "'PV1SCIE', 'PV2SCIE', 'PV3SCIE', 'PV4SCIE', 'PV5SCIE', 'PV6SCIE', 'PV7SCIE', 'PV8SCIE', 'PV9SCIE', 'PV10SCIE',\n",
    "'PV1MATH', 'PV2MATH', 'PV3MATH', 'PV4MATH', 'PV5MATH', 'PV6MATH', 'PV7MATH', 'PV8MATH', 'PV9MATH', 'PV10MATH',\n",
    "'CNT', 'CNTSCHID', 'REPEAT', 'ST001D01T', 'CNTSTUID'\n",
    "]\n",
    "\n",
    "import pandas as pd\n",
    "\n",
    "teacher_df = pd.read_csv('../../../databases/2018/cleaned_teacher2018.csv')\n",
    "chunk_size = 50000 # Adjust based on your memory\n",
    "output_path = '../../../databases/2018/cleaned_teacher_student2018_pt.csv'\n",
    "\n",
    "i = 0\n",
    "first_chunk = True\n",
    "\n",
    "\n",
    "with open(output_path, 'w'):\n",
    "\n",
    "\n",
    "for chunk in pd.read_csv('../../../databases/2018/cleaned_students2018.csv', chunksize=chunk_size):\n",
    "    i += 1\n",
    "    print(f\"Processing chunk {i}\", flush=True)\n",
    "    # Optional: filter by countries\n",
    "    chunk = chunk[chunk['CNT'].isin(countries)]\n",
    "    # Outer join on CNT and CNTSCHID\n",
    "    merged_chunk = pd.merge(teacher_df, chunk, on=['CNT', 'CNTSCHID'], how='outer')\n",
    "    # Append to output file\n",
    "    merged_chunk.to_csv(output_path, mode='a', header=first_chunk, index=False)\n",
    "    first_chunk = False\n",
    "\n",
    "\"\"\"\n",
    "\n",
    "del teacher"
   ],
   "outputs": [
    {
     "name": "stdout",
     "output_type": "stream",
     "text": [
      "(107367, 341)\n",
      "(3456667, 347)\n"
     ]
    }
   ],
   "execution_count": 10
  },
  {
   "metadata": {
    "ExecuteTime": {
     "end_time": "2025-06-09T17:59:02.398891Z",
     "start_time": "2025-06-09T17:58:05.307144Z"
    }
   },
   "cell_type": "code",
   "source": [
    "import pandas as pd\n",
    "group_by_teacher = pd.read_csv('../../../databases/2018/cleaned_teacher_student2018.csv')\n",
    "print(group_by_teacher.shape)"
   ],
   "id": "eaf1f0f0e772df93",
   "outputs": [
    {
     "name": "stdout",
     "output_type": "stream",
     "text": [
      "(3456667, 347)\n"
     ]
    }
   ],
   "execution_count": 11
  },
  {
   "cell_type": "code",
   "id": "86c38abd9575a363",
   "metadata": {
    "ExecuteTime": {
     "end_time": "2025-06-09T17:59:41.769218Z",
     "start_time": "2025-06-09T17:59:02.474031Z"
    }
   },
   "source": [
    "def group_and_integrate_by_teacher(df, teacher_id_col='CNTTCHID'):\n",
    "    student_aggs = {\n",
    "        'CNTSTUID': 'nunique',\n",
    "        'REPEAT': 'sum',\n",
    "        'Avg Reading Result': 'mean',\n",
    "        'Avg Math Result': 'mean',\n",
    "        'Avg Science Result': 'mean'\n",
    "    }\n",
    "\n",
    "    agg_dict = {col: func for col, func in student_aggs.items() if col in df.columns}\n",
    "    candidate_cols = [col for col in df.columns if col not in agg_dict and col != teacher_id_col]\n",
    "    uniqueness_check = df.groupby(teacher_id_col)[candidate_cols].nunique()\n",
    "\n",
    "    teacher_cols_found = 0\n",
    "    for col in candidate_cols:\n",
    "        if uniqueness_check[col].max(skipna=True) <= 1:\n",
    "            agg_dict[col] = 'first' # If constant, just keep the first value.\n",
    "            teacher_cols_found += 1\n",
    "\n",
    "    integrated_df = df.groupby(teacher_id_col).agg(agg_dict).reset_index()\n",
    "\n",
    "    # 4. Rename the aggregated columns for clarity.\n",
    "    integrated_df = integrated_df.rename(columns={\n",
    "        'CNTSTUID': 'total_students',\n",
    "        'REPEAT': 'total_repeaters',\n",
    "#        'Avg Reading Result': 'class_avg_reading',\n",
    "#        'Avg Math Result': 'class_avg_math',\n",
    "#        'Avg Science Result': 'class_avg_science'\n",
    "    })\n",
    "\n",
    "    print(\"Integration complete.\")\n",
    "    return integrated_df\n",
    "\n",
    "group_by_teacher = group_and_integrate_by_teacher(group_by_teacher)\n",
    "\n",
    "group_by_teacher.to_csv(\"../../../databases/2018/integrated_teacher2018.csv\", mode=\"w\", index=False)\n",
    "\n",
    "\"\"\"\n",
    "def group_teacher(group_by_teacher):\n",
    "    # Supondo que você já tenha um DataFrame chamado teacher_student\n",
    "    # Agrupar por professor (CNTTCHID)\n",
    "    summary = group_by_teacher.groupby('CNTTCHID').agg(\n",
    "       total_students=('CNTSTUID', 'nunique'), # número de alunos únicos por professor\n",
    "       repeating_students=('REPEAT', 'sum')    # total de alunos repetentes por professor\n",
    "    )\n",
    "    # Calcular a média de todas as colunas numéricas dos alunos por professor\n",
    "    student_means = group_by_teacher.groupby('CNTTCHID').mean(numeric_only=True)\n",
    "    # Combinar os dois DataFrames\n",
    "    teacher_summary = pd.concat([summary, student_means], axis=1).reset_index()\n",
    "\n",
    "    return teacher_summary\n",
    "\n",
    "group_by_teacher = group_teacher(group_by_teacher)\n",
    "\n",
    "# Exibir o resultado\n",
    "print(group_by_teacher.head())\n",
    "print(group_by_teacher.shape)\n",
    "# Display the result\n",
    "\n",
    "group_by_teacher.to_csv(\"../../../databases/2018/integrated_teacher2018.csv\", mode=\"w\", index=False)\n",
    "\"\"\""
   ],
   "outputs": [
    {
     "name": "stdout",
     "output_type": "stream",
     "text": [
      "Integration complete.\n"
     ]
    },
    {
     "data": {
      "text/plain": [
       "'\\ndef group_teacher(group_by_teacher):\\n    # Supondo que você já tenha um DataFrame chamado teacher_student\\n    # Agrupar por professor (CNTTCHID)\\n    summary = group_by_teacher.groupby(\\'CNTTCHID\\').agg(\\n       total_students=(\\'CNTSTUID\\', \\'nunique\\'), # número de alunos únicos por professor\\n       repeating_students=(\\'REPEAT\\', \\'sum\\')    # total de alunos repetentes por professor\\n    )\\n    # Calcular a média de todas as colunas numéricas dos alunos por professor\\n    student_means = group_by_teacher.groupby(\\'CNTTCHID\\').mean(numeric_only=True)\\n    # Combinar os dois DataFrames\\n    teacher_summary = pd.concat([summary, student_means], axis=1).reset_index()\\n\\n    return teacher_summary\\n\\ngroup_by_teacher = group_teacher(group_by_teacher)\\n\\n# Exibir o resultado\\nprint(group_by_teacher.head())\\nprint(group_by_teacher.shape)\\n# Display the result\\n\\ngroup_by_teacher.to_csv(\"../../../databases/2018/integrated_teacher2018.csv\", mode=\"w\", index=False)\\n'"
      ]
     },
     "execution_count": 12,
     "metadata": {},
     "output_type": "execute_result"
    }
   ],
   "execution_count": 12
  },
  {
   "cell_type": "code",
   "id": "e8f8aaf63b1cf3b9",
   "metadata": {
    "ExecuteTime": {
     "end_time": "2025-06-09T17:59:41.793504Z",
     "start_time": "2025-06-09T17:59:41.789951Z"
    }
   },
   "source": [
    "\"\"\"\n",
    "import pandas as pd\n",
    "from collections import defaultdict\n",
    "\n",
    "# Define file path and chunk size\n",
    "file_path = '../../../databases/2018/cleaned_teacher_student2018.csv' # Replace with your actual file path\n",
    "chunk_size = 10000\n",
    "\n",
    "# Step 1: Collect all unique teacher IDs\n",
    "teacher_ids = set()\n",
    "for chunk in pd.read_csv(file_path, chunksize=chunk_size):\n",
    "    teacher_ids.update(chunk['CNTTCHID'].unique())\n",
    "\n",
    "print(teacher_ids)\n",
    "\n",
    "# Convert to list and split into batches\n",
    "teacher_ids = list(teacher_ids)\n",
    "batch_size = 100\n",
    "batches = [teacher_ids[i:i + batch_size] for i in range(0, len(teacher_ids), batch_size)]\n",
    "\n",
    "# Initialize dictionaries for aggregation\n",
    "sum_dict = defaultdict(lambda: defaultdict(float))\n",
    "count_dict = defaultdict(lambda: defaultdict(int))\n",
    "unique_students = defaultdict(set)\n",
    "repeating_students = defaultdict(int)\n",
    "\n",
    "print(\"batches:\",  len(batches) ,flush=True)\n",
    "# Step 2: Process each batch\n",
    "\n",
    "for idx, batch in enumerate(batches):\n",
    "    print(\"batches:\",  idx, \"/\" ,len(batches) ,flush=True)\n",
    "    for chunk in pd.read_csv(file_path, chunksize=chunk_size):\n",
    "        filtered = chunk[chunk['CNTTCHID'].isin(batch)]\n",
    "        for teacher_id, group in filtered.groupby('CNTTCHID'):\n",
    "            numeric_cols = group.select_dtypes(include='number').columns\n",
    "            for col in numeric_cols:\n",
    "                sum_dict[teacher_id][col] += group[col].sum()\n",
    "                count_dict[teacher_id][col] += group[col].count()\n",
    "                unique_students[teacher_id].update(group['CNTSTUID'].unique())\n",
    "                repeating_students[teacher_id] += group['REPEAT'].sum()\n",
    "\n",
    "# Step 3: Compile final results\n",
    "results = []\n",
    "for teacher_id in sum_dict:\n",
    "    row = {'CNTTCHID': teacher_id}\n",
    "    row['total_students'] = len(unique_students[teacher_id])\n",
    "    row['repeating_students'] = repeating_students[teacher_id]\n",
    "    for col in sum_dict[teacher_id]:\n",
    "        if count_dict[teacher_id][col] > 0:\n",
    "            row[f'{col}'] = sum_dict[teacher_id][col] / count_dict[teacher_id][col]\n",
    "        else:\n",
    "            row[f'{col}'] = float('nan') # or 0, or skip, depending on your needs\n",
    "\n",
    "        results.append(row)\n",
    "\n",
    "# Convert to DataFrame\n",
    "group_by_teacher = pd.DataFrame(results)\n",
    "print(group_by_teacher.head())\n",
    "\n",
    "group_by_teacher.to_csv(\"../../../databases/2018/grouped_by_teacher2018.csv\", index=False)\n",
    "\n",
    "del group_by_teacher\n",
    "\n",
    "\"\"\"\n"
   ],
   "outputs": [
    {
     "data": {
      "text/plain": [
       "'\\nimport pandas as pd\\nfrom collections import defaultdict\\n\\n# Define file path and chunk size\\nfile_path = \\'../../../databases/2018/cleaned_teacher_student2018.csv\\' # Replace with your actual file path\\nchunk_size = 10000\\n\\n# Step 1: Collect all unique teacher IDs\\nteacher_ids = set()\\nfor chunk in pd.read_csv(file_path, chunksize=chunk_size):\\n    teacher_ids.update(chunk[\\'CNTTCHID\\'].unique())\\n\\nprint(teacher_ids)\\n\\n# Convert to list and split into batches\\nteacher_ids = list(teacher_ids)\\nbatch_size = 100\\nbatches = [teacher_ids[i:i + batch_size] for i in range(0, len(teacher_ids), batch_size)]\\n\\n# Initialize dictionaries for aggregation\\nsum_dict = defaultdict(lambda: defaultdict(float))\\ncount_dict = defaultdict(lambda: defaultdict(int))\\nunique_students = defaultdict(set)\\nrepeating_students = defaultdict(int)\\n\\nprint(\"batches:\",  len(batches) ,flush=True)\\n# Step 2: Process each batch\\n\\nfor idx, batch in enumerate(batches):\\n    print(\"batches:\",  idx, \"/\" ,len(batches) ,flush=True)\\n    for chunk in pd.read_csv(file_path, chunksize=chunk_size):\\n        filtered = chunk[chunk[\\'CNTTCHID\\'].isin(batch)]\\n        for teacher_id, group in filtered.groupby(\\'CNTTCHID\\'):\\n            numeric_cols = group.select_dtypes(include=\\'number\\').columns\\n            for col in numeric_cols:\\n                sum_dict[teacher_id][col] += group[col].sum()\\n                count_dict[teacher_id][col] += group[col].count()\\n                unique_students[teacher_id].update(group[\\'CNTSTUID\\'].unique())\\n                repeating_students[teacher_id] += group[\\'REPEAT\\'].sum()\\n\\n# Step 3: Compile final results\\nresults = []\\nfor teacher_id in sum_dict:\\n    row = {\\'CNTTCHID\\': teacher_id}\\n    row[\\'total_students\\'] = len(unique_students[teacher_id])\\n    row[\\'repeating_students\\'] = repeating_students[teacher_id]\\n    for col in sum_dict[teacher_id]:\\n        if count_dict[teacher_id][col] > 0:\\n            row[f\\'{col}\\'] = sum_dict[teacher_id][col] / count_dict[teacher_id][col]\\n        else:\\n            row[f\\'{col}\\'] = float(\\'nan\\') # or 0, or skip, depending on your needs\\n\\n        results.append(row)\\n\\n# Convert to DataFrame\\ngroup_by_teacher = pd.DataFrame(results)\\nprint(group_by_teacher.head())\\n\\ngroup_by_teacher.to_csv(\"../../../databases/2018/grouped_by_teacher2018.csv\", index=False)\\n\\ndel group_by_teacher\\n\\n'"
      ]
     },
     "execution_count": 13,
     "metadata": {},
     "output_type": "execute_result"
    }
   ],
   "execution_count": 13
  },
  {
   "cell_type": "markdown",
   "id": "17a75d3f",
   "metadata": {},
   "source": [
    "## 3.5 Format Data"
   ]
  },
  {
   "cell_type": "markdown",
   "id": "bb288780",
   "metadata": {},
   "source": [
    "Set Performance categories\n",
    "- For data grouped by students\n",
    "- For data grouped by teachers"
   ]
  },
  {
   "cell_type": "code",
   "id": "a379aadf",
   "metadata": {
    "ExecuteTime": {
     "end_time": "2025-06-09T17:59:41.850701Z",
     "start_time": "2025-06-09T17:59:41.846817Z"
    }
   },
   "source": [
    "def categorize_reading_students_by_performance(df):\n",
    "    # Sort the DataFrame by 'Avg Reading Result' in descending order\n",
    "    df = df.sort_values(by='Avg Reading Result', ascending=False).reset_index(drop=True)\n",
    "\n",
    "    # Calculate the number of students\n",
    "    total_students = len(df)\n",
    "\n",
    "    # Define the percentage thresholds\n",
    "    very_good_threshold = int(total_students * 0.70)\n",
    "    neutral_threshold = int(total_students * 0.50)\n",
    "\n",
    "    # Assign categories from highest to lowest\n",
    "    df.loc[0:neutral_threshold-1, 'Reading Score Classification'] = 0\n",
    "    df.loc[neutral_threshold:very_good_threshold-1, 'Reading Score Classification'] = 1\n",
    "    df.loc[very_good_threshold:, 'Reading Score Classification'] = 2\n",
    "\n",
    "    return df"
   ],
   "outputs": [],
   "execution_count": 14
  },
  {
   "cell_type": "code",
   "id": "ffe2ac149ac8b01c",
   "metadata": {
    "ExecuteTime": {
     "end_time": "2025-06-09T17:59:43.416103Z",
     "start_time": "2025-06-09T17:59:41.899878Z"
    }
   },
   "source": [
    "import pandas as pd\n",
    "import matplotlib.pyplot as plt\n",
    "import seaborn as sns\n",
    "\n",
    "#load new table\n",
    "teacher = pd.read_csv('../../../databases/2018/integrated_teacher2018.csv')"
   ],
   "outputs": [],
   "execution_count": 15
  },
  {
   "cell_type": "code",
   "id": "fba2df0a19523731",
   "metadata": {
    "ExecuteTime": {
     "end_time": "2025-06-09T17:59:53.522308Z",
     "start_time": "2025-06-09T17:59:43.430487Z"
    }
   },
   "source": [
    "teacher = categorize_reading_students_by_performance(teacher)\n",
    "teacher.to_csv(\"../../../databases/2018/formated_by_teacher2018.csv\", mode=\"w\", index=False)\n",
    "\n",
    "del teacher"
   ],
   "outputs": [],
   "execution_count": 16
  },
  {
   "cell_type": "markdown",
   "id": "03e10082",
   "metadata": {},
   "source": [
    "## Correlation chart\n",
    "\n",
    "Using a more cleaner dataset, we can check again the correlations between the dataset features and the target variable (average reading result)."
   ]
  },
  {
   "cell_type": "code",
   "id": "828761e89d12f40",
   "metadata": {
    "ExecuteTime": {
     "end_time": "2025-06-09T17:59:53.665047Z",
     "start_time": "2025-06-09T17:59:53.576998Z"
    }
   },
   "source": [
    "import sys\n",
    "import os\n",
    "import pandas as pd\n",
    "\n",
    "# Add the src directory to the Python path\n",
    "sys.path.append(os.path.abspath('../../../src')) # Add the src directory to the Python path\n",
    "\n",
    "from pisadatamap.pisadatamap import PISADataMap\n",
    "\n",
    "data_map = PISADataMap([ '../../../databases/2018/teacher_data_structure_2018.csv'])\n",
    "stu_data_map = PISADataMap(['../../../databases/2018/student_data_structure_2018.csv'])"
   ],
   "outputs": [],
   "execution_count": 17
  },
  {
   "metadata": {
    "ExecuteTime": {
     "end_time": "2025-06-09T17:59:55.122517Z",
     "start_time": "2025-06-09T17:59:53.677207Z"
    }
   },
   "cell_type": "code",
   "source": "teacher = pd.read_csv('../../../databases/2018/formated_by_teacher2018.csv')",
   "id": "d7614f77e105b519",
   "outputs": [],
   "execution_count": 18
  },
  {
   "metadata": {
    "ExecuteTime": {
     "end_time": "2025-06-09T18:00:09.784582Z",
     "start_time": "2025-06-09T17:59:55.136159Z"
    }
   },
   "cell_type": "code",
   "source": [
    "tch_best_correlations = teacher[teacher[\"Reading Score Classification\"]==2].corr(numeric_only=True)[\n",
    "    \"Avg Reading Result\"\n",
    "].sort_values(ascending=False)\n",
    "tch_best_correlations = tch_best_correlations.drop(\"Avg Reading Result\")\n",
    "\n",
    "tch_worst_correlations = teacher[teacher[\"Reading Score Classification\"]==0].corr(numeric_only=True)[\n",
    "    \"Avg Reading Result\"\n",
    "].sort_values(ascending=False)\n",
    "tch_worst_correlations = tch_worst_correlations.drop(\"Avg Reading Result\")"
   ],
   "id": "de6348a044285c4",
   "outputs": [],
   "execution_count": 19
  },
  {
   "cell_type": "code",
   "id": "4c0dcf796aed875d",
   "metadata": {
    "ExecuteTime": {
     "end_time": "2025-06-09T18:00:10.001657Z",
     "start_time": "2025-06-09T18:00:09.801979Z"
    }
   },
   "source": [
    "import seaborn as sns\n",
    "import matplotlib.pyplot as plt\n",
    "\n",
    "tch_best_correlations = tch_best_correlations[tch_best_correlations.abs() > 0.3]\n",
    "tch_worst_correlations = tch_worst_correlations[\n",
    "    tch_worst_correlations.abs() > 0.3\n",
    "]\n",
    "\n",
    "tch_best_correlations.index = [\n",
    "    (data_map.get(col)) for col in tch_best_correlations.index\n",
    "]\n",
    "tch_worst_correlations.index = [\n",
    "    (data_map.get(col)) for col in tch_worst_correlations.index\n",
    "]\n",
    "\n",
    "#tch_best_correlations.index = [f\"{col}\" for col in tch_best_correlations.index ]\n",
    "#tch_worst_correlations.index = [f\"{col}\" for col in tch_worst_correlations.index ]\n",
    "\n",
    "plt.figure(figsize=(12, 8))\n",
    "\n",
    "sns.barplot(x=tch_best_correlations.values, y=tch_best_correlations.index)\n",
    "plt.title(\"Reading result correlation (Best Teacher)\")\n",
    "plt.ylabel(\"Numeric Variables\")\n",
    "plt.show()\n",
    "\n",
    "plt.figure(figsize=(12, 8))\n",
    "\n",
    "sns.barplot(x=tch_worst_correlations.values, y=tch_worst_correlations.index)\n",
    "plt.title(\"Reading result correlation (Worst Teacher)\")\n",
    "plt.ylabel(\"Numeric Variables\")\n",
    "\n",
    "plt.show()"
   ],
   "outputs": [
    {
     "data": {
      "text/plain": [
       "<Figure size 1200x800 with 1 Axes>"
      ],
      "image/png": "[encoded data removed]"
     },
     "metadata": {},
     "output_type": "display_data"
    },
    {
     "data": {
      "text/plain": [
       "<Figure size 1200x800 with 1 Axes>"
      ],
      "image/png": "[encoded data removed]"
     },
     "metadata": {},
     "output_type": "display_data"
    }
   ],
   "execution_count": 20
  },
  {
   "cell_type": "markdown",
   "id": "e1c8db64",
   "metadata": {},
   "source": [
    "<!-- Since the focus is on performance students, we prioritized features that show a strong correlation with this group. -->\n",
    "\n",
    "Following the correlation analysis, we opted to incorporate variables identified as significant from both the repeating and non-repeating student groups. This mixed feature selection strategy aims to leverage complementary insights from both subsets, enhancing the robustness of the final dataset."
   ]
  },
  {
   "metadata": {
    "ExecuteTime": {
     "end_time": "2025-06-09T18:00:10.031169Z",
     "start_time": "2025-06-09T18:00:10.027495Z"
    }
   },
   "cell_type": "code",
   "source": [
    "print(tch_best_correlations.head(20))\n",
    "print(tch_worst_correlations.head(20))"
   ],
   "id": "634ea5143056eb37",
   "outputs": [
    {
     "name": "stdout",
     "output_type": "stream",
     "text": [
      "Average Science Result    0.850455\n",
      "Average Math Result       0.742049\n",
      "total_repeaters          -0.358825\n",
      "Name: Avg Reading Result, dtype: float64\n",
      "Average Science Result    0.921051\n",
      "Average Math Result       0.829439\n",
      "Name: Avg Reading Result, dtype: float64\n"
     ]
    }
   ],
   "execution_count": 21
  },
  {
   "cell_type": "markdown",
   "id": "5e918426",
   "metadata": {},
   "source": [
    "## 3.1 Select Data (Cont.)"
   ]
  },
  {
   "cell_type": "markdown",
   "id": "1f3a002e",
   "metadata": {},
   "source": [
    "After completing the data analysis, we merged the selected numerical and categorical variables to create the final dataset, ready for the next phase."
   ]
  },
  {
   "cell_type": "code",
   "id": "b32e1a85",
   "metadata": {
    "ExecuteTime": {
     "end_time": "2025-06-09T18:00:11.643220Z",
     "start_time": "2025-06-09T18:00:10.086121Z"
    }
   },
   "source": [
    "from collections import OrderedDict\n",
    "\n",
    "data_map = PISADataMap([\n",
    "    '../../../databases/2018/teacher_data_structure_2018.csv',\n",
    "    '../../../databases/2018/student_data_structure_2018.csv',\n",
    "])\n",
    "\n",
    "#reversed_column_mapping = {v: k for k, v in data_map.map_enum.__members__.items()}\n",
    "\n",
    "reversed_column_mapping = {v.value: k for k, v in data_map.map_enum.__members__.items()}\n",
    "\n",
    "best_correl_teacher_columns = [\n",
    "    reversed_column_mapping.get(col, col) for col in tch_best_correlations.index\n",
    "]\n",
    "worst_correl_teacher_columns = [\n",
    "    reversed_column_mapping.get(col, col) for col in tch_worst_correlations.index\n",
    "]\n",
    "\n",
    "columns_to_include = list(\n",
    "    OrderedDict.fromkeys(\n",
    "        best_correl_teacher_columns\n",
    "        + worst_correl_teacher_columns\n",
    "        + [\"Avg Reading Result\"]\n",
    "    )\n",
    ")\n",
    "\n",
    "teacher = pd.read_csv('../../../databases/2018/formated_by_teacher2018.csv')\n",
    "\n",
    "teacher = teacher[columns_to_include]\n",
    "teacher = teacher[sorted(teacher.columns)]\n",
    "teacher"
   ],
   "outputs": [
    {
     "data": {
      "text/plain": [
       "        Avg Math Result  Avg Reading Result  Avg Science Result  \\\n",
       "0            730.823556          676.532267          673.172582   \n",
       "1            730.823556          676.532267          673.172582   \n",
       "2            730.823556          676.532267          673.172582   \n",
       "3            730.823556          676.532267          673.172582   \n",
       "4            730.823556          676.532267          673.172582   \n",
       "...                 ...                 ...                 ...   \n",
       "107362       186.300700          216.418500          249.022000   \n",
       "107363       201.561764          209.728000          214.816545   \n",
       "107364       201.561764          209.728000          214.816545   \n",
       "107365       258.340867          200.758600          205.117500   \n",
       "107366       258.340867          200.758600          205.117500   \n",
       "\n",
       "        total_repeaters  \n",
       "0                   1.0  \n",
       "1                   1.0  \n",
       "2                   1.0  \n",
       "3                   1.0  \n",
       "4                   1.0  \n",
       "...                 ...  \n",
       "107362              1.0  \n",
       "107363              7.0  \n",
       "107364              7.0  \n",
       "107365              2.0  \n",
       "107366              2.0  \n",
       "\n",
       "[107367 rows x 4 columns]"
      ],
      "text/html": [
       "<div>\n",
       "<style scoped>\n",
       "    .dataframe tbody tr th:only-of-type {\n",
       "        vertical-align: middle;\n",
       "    }\n",
       "\n",
       "    .dataframe tbody tr th {\n",
       "        vertical-align: top;\n",
       "    }\n",
       "\n",
       "    .dataframe thead th {\n",
       "        text-align: right;\n",
       "    }\n",
       "</style>\n",
       "<table border=\"1\" class=\"dataframe\">\n",
       "  <thead>\n",
       "    <tr style=\"text-align: right;\">\n",
       "      <th></th>\n",
       "      <th>Avg Math Result</th>\n",
       "      <th>Avg Reading Result</th>\n",
       "      <th>Avg Science Result</th>\n",
       "      <th>total_repeaters</th>\n",
       "    </tr>\n",
       "  </thead>\n",
       "  <tbody>\n",
       "    <tr>\n",
       "      <th>0</th>\n",
       "      <td>730.823556</td>\n",
       "      <td>676.532267</td>\n",
       "      <td>673.172582</td>\n",
       "      <td>1.0</td>\n",
       "    </tr>\n",
       "    <tr>\n",
       "      <th>1</th>\n",
       "      <td>730.823556</td>\n",
       "      <td>676.532267</td>\n",
       "      <td>673.172582</td>\n",
       "      <td>1.0</td>\n",
       "    </tr>\n",
       "    <tr>\n",
       "      <th>2</th>\n",
       "      <td>730.823556</td>\n",
       "      <td>676.532267</td>\n",
       "      <td>673.172582</td>\n",
       "      <td>1.0</td>\n",
       "    </tr>\n",
       "    <tr>\n",
       "      <th>3</th>\n",
       "      <td>730.823556</td>\n",
       "      <td>676.532267</td>\n",
       "      <td>673.172582</td>\n",
       "      <td>1.0</td>\n",
       "    </tr>\n",
       "    <tr>\n",
       "      <th>4</th>\n",
       "      <td>730.823556</td>\n",
       "      <td>676.532267</td>\n",
       "      <td>673.172582</td>\n",
       "      <td>1.0</td>\n",
       "    </tr>\n",
       "    <tr>\n",
       "      <th>...</th>\n",
       "      <td>...</td>\n",
       "      <td>...</td>\n",
       "      <td>...</td>\n",
       "      <td>...</td>\n",
       "    </tr>\n",
       "    <tr>\n",
       "      <th>107362</th>\n",
       "      <td>186.300700</td>\n",
       "      <td>216.418500</td>\n",
       "      <td>249.022000</td>\n",
       "      <td>1.0</td>\n",
       "    </tr>\n",
       "    <tr>\n",
       "      <th>107363</th>\n",
       "      <td>201.561764</td>\n",
       "      <td>209.728000</td>\n",
       "      <td>214.816545</td>\n",
       "      <td>7.0</td>\n",
       "    </tr>\n",
       "    <tr>\n",
       "      <th>107364</th>\n",
       "      <td>201.561764</td>\n",
       "      <td>209.728000</td>\n",
       "      <td>214.816545</td>\n",
       "      <td>7.0</td>\n",
       "    </tr>\n",
       "    <tr>\n",
       "      <th>107365</th>\n",
       "      <td>258.340867</td>\n",
       "      <td>200.758600</td>\n",
       "      <td>205.117500</td>\n",
       "      <td>2.0</td>\n",
       "    </tr>\n",
       "    <tr>\n",
       "      <th>107366</th>\n",
       "      <td>258.340867</td>\n",
       "      <td>200.758600</td>\n",
       "      <td>205.117500</td>\n",
       "      <td>2.0</td>\n",
       "    </tr>\n",
       "  </tbody>\n",
       "</table>\n",
       "<p>107367 rows × 4 columns</p>\n",
       "</div>"
      ]
     },
     "execution_count": 22,
     "metadata": {},
     "output_type": "execute_result"
    }
   ],
   "execution_count": 22
  },
  {
   "cell_type": "markdown",
   "id": "c13e8010",
   "metadata": {},
   "source": [
    "Finally, we analyzed the correlation matrix to check for highly correlated features that might be removed, but none were identified."
   ]
  },
  {
   "cell_type": "code",
   "id": "fcb4b41f",
   "metadata": {
    "ExecuteTime": {
     "end_time": "2025-06-09T18:00:37.766649Z",
     "start_time": "2025-06-09T18:00:37.755795Z"
    }
   },
   "source": [
    "correlation_matrix = teacher.corr(numeric_only=True)"
   ],
   "outputs": [],
   "execution_count": 24
  },
  {
   "cell_type": "code",
   "id": "693faf65",
   "metadata": {
    "ExecuteTime": {
     "end_time": "2025-06-09T18:00:39.711710Z",
     "start_time": "2025-06-09T18:00:39.610829Z"
    }
   },
   "source": [
    "plt.figure(figsize=(12, 10))\n",
    "sns.heatmap(correlation_matrix, annot=True, cmap=\"coolwarm\", fmt=\".2f\", square=True)\n",
    "plt.title(\"Correlation Matrix\")\n",
    "plt.show()"
   ],
   "outputs": [
    {
     "data": {
      "text/plain": [
       "<Figure size 1200x1000 with 2 Axes>"
      ],
      "image/png": "[encoded data removed]"
     },
     "metadata": {},
     "output_type": "display_data"
    }
   ],
   "execution_count": 25
  },
  {
   "cell_type": "code",
   "id": "049ff82c",
   "metadata": {
    "ExecuteTime": {
     "end_time": "2025-06-09T18:00:44.132615Z",
     "start_time": "2025-06-09T18:00:43.904655Z"
    }
   },
   "source": "teacher.to_csv(\"../../../databases/q2_database_teacher.csv\",  mode=\"w\", index=False)",
   "outputs": [],
   "execution_count": 26
  },
  {
   "cell_type": "code",
   "id": "e803eee4bd8673c2",
   "metadata": {
    "ExecuteTime": {
     "end_time": "2025-06-09T18:00:45.419919Z",
     "start_time": "2025-06-09T18:00:45.352843Z"
    }
   },
   "source": [
    "teacher = pd.read_csv(\"../../../databases/q2_database_teacher.csv\")\n",
    "print(\"teacher shape:\", teacher.shape)"
   ],
   "outputs": [
    {
     "name": "stdout",
     "output_type": "stream",
     "text": [
      "teacher shape: (107367, 4)\n"
     ]
    }
   ],
   "execution_count": 27
  },
  {
   "metadata": {
    "ExecuteTime": {
     "end_time": "2025-06-09T18:00:46.711426Z",
     "start_time": "2025-06-09T18:00:46.608450Z"
    }
   },
   "cell_type": "code",
   "source": [
    "plt.figure(figsize=(12, 10))\n",
    "sns.heatmap(correlation_matrix, annot=True, cmap=\"coolwarm\", fmt=\".2f\", square=True)\n",
    "plt.title(\"Correlation Matrix\")\n",
    "plt.show()"
   ],
   "id": "d76de733291262e4",
   "outputs": [
    {
     "data": {
      "text/plain": [
       "<Figure size 1200x1000 with 2 Axes>"
      ],
      "image/png": "[encoded data removed]"
     },
     "metadata": {},
     "output_type": "display_data"
    }
   ],
   "execution_count": 28
  },
  {
   "metadata": {},
   "cell_type": "markdown",
   "source": "This correlations did not show much",
   "id": "e2df16546cd5be47"
  }
 ],
 "metadata": {
  "kernelspec": {
   "display_name": "Python 3 (ipykernel)",
   "language": "python",
   "name": "python3"
  },
  "language_info": {
   "codemirror_mode": {
    "name": "ipython",
    "version": 3
   },
   "file_extension": ".py",
   "mimetype": "text/x-python",
   "name": "python",
   "nbconvert_exporter": "python",
   "pygments_lexer": "ipython3",
   "version": "3.12.7"
  }
 },
 "nbformat": 4,
 "nbformat_minor": 5
}
