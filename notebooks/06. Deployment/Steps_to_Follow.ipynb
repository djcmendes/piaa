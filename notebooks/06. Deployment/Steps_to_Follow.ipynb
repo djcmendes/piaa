{
 "cells": [
  {
   "metadata": {},
   "cell_type": "markdown",
   "source": [
    "# 6. Deployment\n",
    "\n",
    "### **6.1 Plan Deployment**\n",
    "\n",
    "**Task Plan Deployment**\n",
    "In order to deploy the data mining result(s) into the business, this task\n",
    "takes the evaluation results and concludes a strategy for deployment. If\n",
    "there has been identified a general procedure to create the relevant\n",
    "model(s), this procedure is documented here for deployment later.\n",
    "\n",
    "**Output Deployment Plan**\n",
    "\n",
    "Summarizes deployment strategy including necessary steps and how to\n",
    "perform them"
   ]
  },
  {
   "metadata": {},
   "cell_type": "markdown",
   "source": [
    "### **6.2 Plan Monitoring and Maintenance**\n",
    "\n",
    "**Task Plan Monitoring and Maintenance**\n",
    "\n",
    "Monitoring and maintenance are important issues if the data mining\n",
    "result becomes part of the day-to-day business and its environment. A\n",
    "careful preparation of a maintenance strategy helps to avoid\n",
    "unnecessarily long periods of incorrect usage of data mining results. In\n",
    "order to monitor the deployment of the data mining result(s), the project\n",
    "needs a detailed plan on the monitoring process. This plan takes into\n",
    "account the specific type of deployment.\n",
    "\n",
    "**Output Monitoring and Maintenance Plan**\n",
    "\n",
    "Summarizes monitoring and maintenance strategy including necessary\n",
    "steps and how to perform them."
   ]
  },
  {
   "metadata": {},
   "cell_type": "markdown",
   "source": [
    "### **6.3 Produce Final Report**\n",
    "\n",
    "**Task Produce Final Report**\n",
    "\n",
    "At the end of the project, the project leader and his team write up a final\n",
    "report. It depends on the deployment plan, if this report is only a\n",
    "summary of the project and its experiences (if they have not already been\n",
    "documented as an ongoing activity), or if this report is a final\n",
    "presentation of the data mining result(s).\n",
    "\n",
    "**Outputs Final Report**\n",
    "\n",
    "The final written report of the data mining engagement. Includes all of\n",
    "the previous deliverables, plus summarizing and organizing the results.\n",
    "\n",
    "**Final Presentation**\n",
    "\n",
    "There will also often be a meeting at the conclusion of the project where\n",
    "the results are verbally presented to the customer."
   ]
  },
  {
   "metadata": {},
   "cell_type": "markdown",
   "source": [
    "### **6.4 Review Project**\n",
    "\n",
    "**Task Review Project**\n",
    "\n",
    "Assess what went right and what went wrong, what was done well and\n",
    "what needs to be improved.\n",
    "\n",
    "**Output Experience Documentation**\n",
    "\n",
    "Summarizes important experiences made during the project. For\n",
    "example, pitfalls, misleading approaches or hints for selecting the best\n",
    "suited data mining techniques in similar situations could be part of this\n",
    "documentation. In ideal projects, experience documentation covers also\n",
    "any reports that have been written by individual project members during\n",
    "the project phases and their tasks."
   ]
  }
 ],
 "metadata": {
  "language_info": {
   "name": "python"
  }
 },
 "nbformat": 4,
 "nbformat_minor": 2
}
