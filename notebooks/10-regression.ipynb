{
 "cells": [
  {
   "cell_type": "markdown",
   "id": "986e004b-751e-4253-98eb-6309a537cb76",
   "metadata": {},
   "source": [
    "# Aprendizagem supervisionada: Regressão\n",
    "\n",
    "Tal como a classificação, a regressão é uma das abordagens usadas no contexto da aprendizagem supervisionada. Neste caso, o foco é na previsão de valores contínuos em vez de classes ou categorias discretas. Este tutorial foca-se na aplicação e avaliação de diferentes algoritmos de regressão disponibilizados pela biblioteca [scikit-learn](https://scikit-learn.org/)."
   ]
  },
  {
   "cell_type": "code",
   "id": "33b4f105-74ea-4d93-9b1d-8498a1bf002b",
   "metadata": {
    "jupyter": {
     "is_executing": true
    }
   },
   "source": [
    "import sklearn\n",
    "\n",
    "import numpy as np\n",
    "import pandas as pd\n",
    "\n",
    "%matplotlib inline\n",
    "import matplotlib.pyplot as plt\n",
    "\n",
    "import seaborn as sns\n",
    "sns.set_theme()"
   ],
   "outputs": [],
   "execution_count": null
  },
  {
   "cell_type": "markdown",
   "id": "878d4965-511f-4bd2-bf33-05c7fce4417c",
   "metadata": {},
   "source": [
    "## Preparação dos dados\n",
    "\n",
    "Por uma questão de simplicidade, neste tutorial vamos usar a função `make_regression` para gerar um conjunto de dados sintético com apenas uma característica e o correspondente valor alvo:"
   ]
  },
  {
   "cell_type": "code",
   "execution_count": null,
   "id": "f4576ee6-82f2-4fc8-b28d-cf143684e525",
   "metadata": {},
   "outputs": [],
   "source": [
    "from sklearn.datasets import make_regression"
   ]
  },
  {
   "cell_type": "code",
   "execution_count": null,
   "id": "eac8a685-3ad1-449e-a833-d67a34df6c3f",
   "metadata": {},
   "outputs": [],
   "source": [
    "X, y = make_regression(1000, 1, noise=10, random_state=37)\n",
    "df = pd.DataFrame(X, columns=['x'])\n",
    "df['y'] = y\n",
    "\n",
    "df.head()"
   ]
  },
  {
   "cell_type": "markdown",
   "id": "ee3ea4d6-1362-4ca1-ae93-af829bb313a9",
   "metadata": {},
   "source": [
    "Para estimar o desempenho de diferentes modelos de regressão e avaliar a sua capacidade de generalização para dados que não foram vistos, vamos particionar este conjunto de forma a que 80% dos dados sejam usados para treino e os restantes 20% para teste:"
   ]
  },
  {
   "cell_type": "code",
   "execution_count": null,
   "id": "122be310-312d-4987-9d2a-8ba02fc008ba",
   "metadata": {},
   "outputs": [],
   "source": [
    "from sklearn.model_selection import train_test_split"
   ]
  },
  {
   "cell_type": "code",
   "execution_count": null,
   "id": "42327fa7-8136-42e4-b7d1-b7eecd348a24",
   "metadata": {},
   "outputs": [],
   "source": [
    "df_train, df_test = train_test_split(df, test_size=0.2, random_state=42)"
   ]
  },
  {
   "cell_type": "markdown",
   "id": "a1e1139d-31dd-48b5-afe7-832a20421bdc",
   "metadata": {},
   "source": [
    "Podemos visualizar os dois conjuntos para verificar se têm uma distribuição semelhante:"
   ]
  },
  {
   "cell_type": "code",
   "execution_count": null,
   "id": "61d41dc3-c9ba-4057-9e52-144644e011e4",
   "metadata": {},
   "outputs": [],
   "source": [
    "sns.scatterplot(df_train, x='x', y='y')\n",
    "plt.title('Training Set')\n",
    "plt.show()\n",
    "\n",
    "sns.scatterplot(df_test, x='x', y='y')\n",
    "plt.title('Test Set')\n",
    "plt.show()"
   ]
  },
  {
   "cell_type": "markdown",
   "id": "6ce65a59-369e-424b-824a-50feac394f2c",
   "metadata": {},
   "source": [
    "## Treino\n",
    "\n",
    "O algoritmo de regressão mais usado é a regressão linear. Na biblioteca *scikit-learn* esta é implementada pela classe [`Linear Regression`](https://scikit-learn.org/stable/modules/generated/sklearn.linear_model.LinearRegression.html). Para além disso, a maioria dos algoritmos que exploramos para classificação têm uma versão que pode ser usada para problemas de regressão. Por exemplo:\n",
    "\n",
    "- k-NN: [`KNeighborsRegressor`](https://scikit-learn.org/stable/modules/generated/sklearn.neighbors.KNeighborsRegressor.html)\n",
    "- Árvores de Decisão: [`DecisionTreeRegressor`](https://scikit-learn.org/stable/modules/generated/sklearn.tree.DecisionTreeRegressor.html)\n",
    "- Random Forest: [`RandomForestRegressor`](https://scikit-learn.org/stable/modules/generated/sklearn.ensemble.RandomForestRegressor.htm)\n",
    "- Máquinas de Vetores de Suporte: [`SVR`](https://scikit-learn.org/stable/modules/generated/sklearn.svm.SVR.html)\n",
    "- Redes Neuronais: [`MLPRegressor`](https://scikit-learn.org/stable/modules/generated/sklearn.neural_network.MLPRegressor.html)\n",
    "\n",
    "Vamos explorar o uso destes algoritmos para treinar modelos de regressão no conjunto de dados definido anteriormente."
   ]
  },
  {
   "cell_type": "code",
   "execution_count": null,
   "id": "db367fc6-4fe8-4733-bccc-19471dc71cbc",
   "metadata": {},
   "outputs": [],
   "source": [
    "from sklearn.linear_model import LinearRegression\n",
    "from sklearn.neighbors import KNeighborsRegressor\n",
    "from sklearn.tree import DecisionTreeRegressor\n",
    "from sklearn.ensemble import RandomForestRegressor\n",
    "from sklearn.svm import SVR\n",
    "from sklearn.neural_network import MLPRegressor"
   ]
  },
  {
   "cell_type": "code",
   "execution_count": null,
   "id": "352027e8-ae70-49e0-92a3-69957f511c8d",
   "metadata": {},
   "outputs": [],
   "source": [
    "regressors = {\n",
    "    'Linear Regression': LinearRegression(),\n",
    "    'k-NN': KNeighborsRegressor(n_neighbors=3),\n",
    "    'Decision Tree': DecisionTreeRegressor(),\n",
    "    'Random Forest': RandomForestRegressor(n_estimators=10),\n",
    "    'SVM': SVR(kernel='linear'),\n",
    "    'MLP': MLPRegressor(hidden_layer_sizes=(8,), activation='tanh', max_iter=20000)\n",
    "}"
   ]
  },
  {
   "cell_type": "markdown",
   "id": "596c244f-36ff-43a2-8491-652224f83387",
   "metadata": {},
   "source": [
    "**Nota**: Os hiperparametros que podem ser usados para configurar o treino de modelos usando cada um destes algoritmos são semelhantes aos dos seus equivalentes para classificação. Acima, na listagem dos algoritmos e das respectivas classes que os implementam, é possível aceder à documentação da classe clicando no seu nome. Tal como para a classificação, recomenda-se a exploração de diferentes configurações dos algoritmos. "
   ]
  },
  {
   "cell_type": "markdown",
   "id": "dc850ff7-bc59-4232-af41-f05df71a9649",
   "metadata": {},
   "source": [
    "**Nota**: A biblioteca *scikit-learn* também implementa versões da regressão linear com regularização: [`Ridge`](https://scikit-learn.org/stable/modules/generated/sklearn.linear_model.Ridge.html), [`Lasso`](https://scikit-learn.org/stable/modules/generated/sklearn.linear_model.Lasso.html) e [`ElasticNet`](https://scikit-learn.org/stable/modules/generated/sklearn.linear_model.ElasticNet.html)."
   ]
  },
  {
   "cell_type": "markdown",
   "id": "92ca41c2-58ce-4cdc-a9b6-db1e38efac1d",
   "metadata": {},
   "source": [
    "Vamos agora aplicar uma estratégia de validação cruzada para analisar o desempenho de cada uma das abordagens. No contexto da regressão, não existe uma função equivalente à `classification_report` usada para classificação. Como tal, por simplicidade, vamos usar a média dos valores devolvidos pela função `cross_val_score`. Neste caso, os valores correspondem ao coeficiente de determinação (R<sup>2</sup>). Outras métricas serão exploradas mais à frente, quando os modelos forem avaliados no conjunto de [teste](#Teste)."
   ]
  },
  {
   "cell_type": "code",
   "execution_count": null,
   "id": "af43d4ad-cc2f-410d-9c47-f1dfe1a62cb3",
   "metadata": {},
   "outputs": [],
   "source": [
    "from sklearn.model_selection import cross_val_score"
   ]
  },
  {
   "cell_type": "code",
   "execution_count": null,
   "id": "1f45bade-96a0-4391-83d9-914dbe09a82c",
   "metadata": {},
   "outputs": [],
   "source": [
    "for name, regressor in regressors.items():\n",
    "    cv_scores = cross_val_score(regressor, df_train[['x']], df_train['y'], cv=5)\n",
    "    print(f'{name}: {np.mean(cv_scores)}')"
   ]
  },
  {
   "cell_type": "markdown",
   "id": "5ff4336d-576a-45a3-b2a0-2707a01cc996",
   "metadata": {},
   "source": [
    "Após encontrarmos a melhor configuração (ou uma configuração satisfatória) para cada algoritmo, podemos então treinar os modelos no conjunto de treino completo usando essas configurações:"
   ]
  },
  {
   "cell_type": "code",
   "execution_count": null,
   "id": "c3c4936a-63ca-4159-9bc2-0faf67910acd",
   "metadata": {},
   "outputs": [],
   "source": [
    "for regressor in regressors.values():\n",
    "    regressor.fit(df_train[['x']], df_train['y'])"
   ]
  },
  {
   "cell_type": "markdown",
   "id": "fe7366c8-f7ee-4540-b9c6-1a38495ebfab",
   "metadata": {},
   "source": [
    "Como o nosso conjunto de dados tem apenas uma característica, podemos visualizar diretamente a curva da regressão aprendida por cada modelo:"
   ]
  },
  {
   "cell_type": "code",
   "execution_count": null,
   "id": "7f20c043-3524-4361-8ac8-06ea262748ae",
   "metadata": {},
   "outputs": [],
   "source": [
    "def draw_regression(df, regressor, title):\n",
    "    draw_df = pd.DataFrame()\n",
    "    draw_df['x'] = np.arange(min(df['x'])-0.5, max(df['x'])+0.5, 0.01)\n",
    "    draw_df['y'] = regressor.predict(draw_df[['x']])\n",
    "    sns.scatterplot(df, x='x', y='y')\n",
    "    sns.lineplot(draw_df, x='x', y='y', color='orange')\n",
    "    plt.title(title)\n",
    "    plt.show()"
   ]
  },
  {
   "cell_type": "code",
   "execution_count": null,
   "id": "a13c2fbe-e4c7-4f98-b8a2-f8cbb7cd626b",
   "metadata": {},
   "outputs": [],
   "source": [
    "for name, regressor in regressors.items():\n",
    "    draw_regression(df_train, regressor, name)"
   ]
  },
  {
   "cell_type": "markdown",
   "id": "5a3924a0-761b-4fc6-a82b-9e95412fdbfc",
   "metadata": {},
   "source": [
    "## Teste\n",
    "\n",
    "Tal como para a classificação, após explorar várias abordagens no conjunto de treino, podemos selecionar as melhores e avaliar o seu desempenho no conjunto de teste. Neste caso, vamos usar todos os modelos treinados anteriormente. Para além do coeficiente de determinação (R<sup>2</sup>), vamos também analisar o desempenho usando o erro quadrático médio (MSE) e o erro absoluto médio (MAE). O coeficiente de determinação mede a proporção da variabilidade da variável dependente que pode ser explicada pelas variáveis independentes e, portanto, deve ser maximizado. Por outro lado, as duas outras métricas medem o erro médio da previsão e, portanto, devem ser minimizadas. A principal diferença entre as duas é que o erro quadrático médio dá mais peso a disparidades maiores entre o valor previsto e o esperado. Analisando todas estas métricas em conjunto podemos obter uma visão mais completa e detalhada do desempenho dos modelos de regressão e tomar decisões mais informadas sobre sua adequação para o problema em questão."
   ]
  },
  {
   "cell_type": "code",
   "execution_count": null,
   "id": "2f54a760-a785-4ee8-89af-968addfe98e0",
   "metadata": {},
   "outputs": [],
   "source": [
    "from sklearn.metrics import r2_score, mean_squared_error, mean_absolute_error"
   ]
  },
  {
   "cell_type": "code",
   "execution_count": null,
   "id": "8d8e200a-3ec8-4703-ac65-23ff3be374ce",
   "metadata": {},
   "outputs": [],
   "source": [
    "test_metrics = {}\n",
    "for name, regressor in regressors.items():\n",
    "    y_pred = regressor.predict(df_test[['x']])\n",
    "    test_metrics[name] = {\n",
    "        'r2': r2_score(df_test['y'], y_pred),\n",
    "        'mse': mean_squared_error(df_test['y'], y_pred),\n",
    "        'mae': mean_absolute_error(df_test['y'], y_pred)\n",
    "    }\n",
    "\n",
    "eval_df = pd.DataFrame.from_dict(test_metrics, orient='index')\n",
    "eval_df"
   ]
  }
 ],
 "metadata": {
  "kernelspec": {
   "display_name": "Python 3 (ipykernel)",
   "language": "python",
   "name": "python3"
  },
  "language_info": {
   "codemirror_mode": {
    "name": "ipython",
    "version": 3
   },
   "file_extension": ".py",
   "mimetype": "text/x-python",
   "name": "python",
   "nbconvert_exporter": "python",
   "pygments_lexer": "ipython3",
   "version": "3.10.10"
  }
 },
 "nbformat": 4,
 "nbformat_minor": 5
}
