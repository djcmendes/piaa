{
 "cells": [
  {
   "cell_type": "markdown",
   "id": "dc9b1a3a-e800-4b4d-a20c-5391eb9e5a2d",
   "metadata": {},
   "source": [
    "# Exercícios: Classificação"
   ]
  },
  {
   "cell_type": "code",
   "execution_count": null,
   "id": "fa3e5cce-4425-4d50-b0a9-e1d7756044ee",
   "metadata": {},
   "outputs": [],
   "source": [
    "import os\n",
    "\n",
    "import numpy as np\n",
    "import pandas as pd\n",
    "\n",
    "import sklearn\n",
    "from sklearn.model_selection import train_test_split, cross_val_predict\n",
    "from sklearn.metrics import classification_report, confusion_matrix, ConfusionMatrixDisplay\n",
    "from sklearn.neighbors import KNeighborsClassifier\n",
    "from sklearn.naive_bayes import GaussianNB\n",
    "from sklearn.tree import DecisionTreeClassifier, plot_tree\n",
    "from sklearn.ensemble import RandomForestClassifier\n",
    "from sklearn.linear_model import LogisticRegression, Perceptron\n",
    "from sklearn.svm import SVC\n",
    "from sklearn.neural_network import MLPClassifier\n",
    "\n",
    "%matplotlib inline\n",
    "import matplotlib.pyplot as plt\n",
    "import seaborn as sns\n",
    "sns.set_theme()"
   ]
  },
  {
   "cell_type": "markdown",
   "id": "19999e31-2b73-4841-bd62-ea155b0fe590",
   "metadata": {},
   "source": [
    "Para estes exercícios, será usado o conjunto de dados [Credit Card Customers](https://www.kaggle.com/sakshigoyal7/credit-card-customers):"
   ]
  },
  {
   "cell_type": "code",
   "execution_count": null,
   "id": "21882805-4c14-4abb-b4ac-143dddde4af6",
   "metadata": {},
   "outputs": [],
   "source": [
    "data_path = '../data/' if os.path.exists('../data/') else 'https://raw.githubusercontent.com/TheAwesomeGe/DECD/main/data/'\n",
    "xlsx_file_path = data_path + 'BankChurners.xlsx'\n",
    "df = pd.read_excel(xlsx_file_path, index_col='CLIENTNUM')"
   ]
  },
  {
   "cell_type": "markdown",
   "id": "9ae7ba7b-55af-4ba4-8d60-d08dfa21cbef",
   "metadata": {},
   "source": [
    "1. Se não o fez antes, dedique algum tempo a rever e a comprender as várias colunas do conjunto de dados, tendo também em conta a descrição que pode encontrar no [website](https://www.kaggle.com/sakshigoyal7/credit-card-customers). Em seguida, prepare os dados de forma a que estes não incluam valores em falta, o atributo `Attrition_Flag` seja o alvo da classificação, e os restantes atributos sejam numéricos."
   ]
  },
  {
   "cell_type": "code",
   "execution_count": null,
   "id": "65d62593-7576-4192-92d7-cf496c5489e4",
   "metadata": {},
   "outputs": [],
   "source": []
  },
  {
   "cell_type": "markdown",
   "id": "b0b76cd6-2b75-4632-92b5-49a81344011d",
   "metadata": {},
   "source": [
    "2. Particione o conjunto de dados de forma a que 80% seja para treino e 20% para teste."
   ]
  },
  {
   "cell_type": "code",
   "execution_count": null,
   "id": "d0b76753-512b-4c93-8c8e-e7a465f83bad",
   "metadata": {},
   "outputs": [],
   "source": []
  },
  {
   "cell_type": "markdown",
   "id": "b81ba596-4e78-4bc9-96f7-3985581c60f9",
   "metadata": {},
   "source": [
    "3. Usando uma abordagem de validação cruzada sobre o conjunto de treino, explore o uso de diferentes algoritmos de classificação e analise as diferenças entre os resultados obtidos."
   ]
  },
  {
   "cell_type": "code",
   "execution_count": null,
   "id": "7f4cec5e-b672-4327-b90f-4745f9e2fb90",
   "metadata": {},
   "outputs": [],
   "source": []
  },
  {
   "cell_type": "markdown",
   "id": "33fc65ae-fa36-461f-8721-b00a9f659cc4",
   "metadata": {},
   "source": [
    "4. Treine uma árvore de decisão no conjunto de treino e identifique os atributos mais importantes visualizando a árvore obtida."
   ]
  },
  {
   "cell_type": "code",
   "execution_count": null,
   "id": "5cc60d8b-28ba-4af8-8311-8a08ce5eeb42",
   "metadata": {},
   "outputs": [],
   "source": []
  },
  {
   "cell_type": "markdown",
   "id": "40f39da9-8e28-4caa-a0ec-85b3237f5438",
   "metadata": {},
   "source": [
    "5. Entre as abordagens exploradas no ponto 3, selecione a melhor com base na taxa de acerto. Use essa abordagem para treinar um classificador no conjunto de treino. Avalie o desempenho desse classificador no conjunto de teste. A taxa de acerto parece-lhe a métrica mais adequada para este problema?"
   ]
  },
  {
   "cell_type": "code",
   "execution_count": null,
   "id": "8d9abc87-0460-49e7-b0fc-9fa876ccd17d",
   "metadata": {},
   "outputs": [],
   "source": []
  },
  {
   "cell_type": "markdown",
   "id": "ab95e09d-cbca-4357-a783-ecdefbf1c1a0",
   "metadata": {},
   "source": [
    "6. Analise os exemplos do conjunto de teste para os quais o classificador faz previsões incorretas e verifique se existe algum padrão. "
   ]
  },
  {
   "cell_type": "code",
   "execution_count": null,
   "id": "4369d4d0-902a-4eea-a174-519e6f9fc5ec",
   "metadata": {},
   "outputs": [],
   "source": []
  },
  {
   "cell_type": "markdown",
   "id": "75b3b9c4-7301-4c90-813a-ae4b006aebe3",
   "metadata": {},
   "source": [
    "7. Repare que o conjunto de dados não é balanceado. Faça um balanceamento do conjunto de **treino**, reduzindo (subamostragem) o número de exemplos da classe `Existing Customer` (**Sugestão**: use a função [`sample`](https://pandas.pydata.org/docs/reference/api/pandas.DataFrame.sample.html)). Repita as experiências e analise o impacto do balanceamento dos dados de treino. "
   ]
  },
  {
   "cell_type": "code",
   "execution_count": null,
   "id": "195dd5e9-8a2e-4017-ba86-3edf99a04761",
   "metadata": {},
   "outputs": [],
   "source": []
  }
 ],
 "metadata": {
  "kernelspec": {
   "display_name": "Python 3 (ipykernel)",
   "language": "python",
   "name": "python3"
  },
  "language_info": {
   "codemirror_mode": {
    "name": "ipython",
    "version": 3
   },
   "file_extension": ".py",
   "mimetype": "text/x-python",
   "name": "python",
   "nbconvert_exporter": "python",
   "pygments_lexer": "ipython3",
   "version": "3.10.10"
  }
 },
 "nbformat": 4,
 "nbformat_minor": 5
}
