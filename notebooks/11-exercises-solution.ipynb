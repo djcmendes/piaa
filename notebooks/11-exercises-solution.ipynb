{
 "cells": [
  {
   "cell_type": "markdown",
   "id": "b6ca136e-7e2e-4bae-ac0a-55324d6ed803",
   "metadata": {},
   "source": [
    "# Exercícios: Regressão"
   ]
  },
  {
   "cell_type": "code",
   "execution_count": null,
   "id": "560b6063-a839-409e-909f-ef5602671b65",
   "metadata": {},
   "outputs": [],
   "source": [
    "import numpy as np\n",
    "import pandas as pd\n",
    "\n",
    "import sklearn\n",
    "from sklearn.model_selection import train_test_split, cross_val_score\n",
    "from sklearn.metrics import r2_score, mean_squared_error, mean_absolute_error\n",
    "from sklearn.linear_model import LinearRegression\n",
    "from sklearn.neighbors import KNeighborsRegressor\n",
    "from sklearn.tree import DecisionTreeRegressor\n",
    "from sklearn.ensemble import RandomForestRegressor\n",
    "from sklearn.svm import SVR\n",
    "from sklearn.neural_network import MLPRegressor\n",
    "\n",
    "%matplotlib inline\n",
    "import matplotlib.pyplot as plt\n",
    "import seaborn as sns\n",
    "sns.set_theme()"
   ]
  },
  {
   "cell_type": "markdown",
   "id": "fc2015ac-b772-446a-a9b9-13475d209fa8",
   "metadata": {},
   "source": [
    "Para estes exercícios, será usado o conjunto de dados [California Housing](https://www.dcc.fc.up.pt/~ltorgo/Regression/cal_housing.html):"
   ]
  },
  {
   "cell_type": "code",
   "execution_count": null,
   "id": "c2de0f2c-a886-43f4-bb4b-756c47cef949",
   "metadata": {},
   "outputs": [],
   "source": [
    "from sklearn.datasets import fetch_california_housing\n",
    "\n",
    "ds = fetch_california_housing()\n",
    "\n",
    "# Convert the data to a pandas DataFrame\n",
    "df = pd.DataFrame(ds.data, columns=ds.feature_names)\n",
    "df['target'] = ds.target"
   ]
  },
  {
   "cell_type": "markdown",
   "id": "9cae60eb-a24b-4bac-a0fa-ff606b933707",
   "metadata": {},
   "source": [
    "1. Dedique algum tempo a rever e a comprender as várias colunas do conjunto de dados e o problema a abordar, tendo também em conta a descrição que pode encontrar no [website](https://www.dcc.fc.up.pt/~ltorgo/Regression/cal_housing.html)."
   ]
  },
  {
   "cell_type": "code",
   "execution_count": null,
   "id": "f245987d-4f6a-4cd2-a7ad-60424c33e6e1",
   "metadata": {},
   "outputs": [],
   "source": [
    "df.head()"
   ]
  },
  {
   "cell_type": "code",
   "execution_count": null,
   "id": "d9482ce1-bea7-45c1-9228-62d22b5c8b10",
   "metadata": {},
   "outputs": [],
   "source": [
    "df.describe()"
   ]
  },
  {
   "cell_type": "code",
   "execution_count": null,
   "id": "1de1fe68-0c30-4528-a0bb-9ce884cb36ae",
   "metadata": {},
   "outputs": [],
   "source": [
    "df.corr()"
   ]
  },
  {
   "cell_type": "markdown",
   "id": "a0604b68-6121-46e0-a07a-090461a26f73",
   "metadata": {},
   "source": [
    "2. Particione o conjunto de dados de forma a que 80% seja para treino e 20% para teste."
   ]
  },
  {
   "cell_type": "code",
   "execution_count": null,
   "id": "7c587851-1d0d-404a-9af2-b205ca56a00f",
   "metadata": {},
   "outputs": [],
   "source": [
    "df_train, df_test = train_test_split(df, test_size=0.2, random_state=42)"
   ]
  },
  {
   "cell_type": "markdown",
   "id": "ae05d145-efd6-4e80-be91-81e5b045ebbc",
   "metadata": {},
   "source": [
    "3. Usando uma abordagem de validação cruzada sobre o conjunto de treino, explore o uso de diferentes algoritmos de regressão e analise as diferenças entre os resultados obtidos. Para as abordagens com menor desempenho, pense em estratégias de processamento de dados que poderiam ser exploradas para melhorar esse desempenho."
   ]
  },
  {
   "cell_type": "code",
   "execution_count": null,
   "id": "9a27bd73-bd55-4bde-82e6-9536e160d6d8",
   "metadata": {},
   "outputs": [],
   "source": [
    "regressors = {\n",
    "    'Linear Regression': LinearRegression(),\n",
    "    'k-NN': KNeighborsRegressor(n_neighbors=5),\n",
    "    'Decision Tree': DecisionTreeRegressor(),\n",
    "    'Random Forest': RandomForestRegressor(n_estimators=100),\n",
    "    'SVM': SVR(kernel='linear', max_iter=10000),\n",
    "    'MLP': MLPRegressor(hidden_layer_sizes=(8,4), max_iter=20000)\n",
    "}"
   ]
  },
  {
   "cell_type": "code",
   "execution_count": null,
   "id": "0918d03e-dd6f-4ad5-a7dd-5f2d193273f1",
   "metadata": {},
   "outputs": [],
   "source": [
    "cv_scores = pd.Series({\n",
    "    name: np.mean(cross_val_score(regressor, df_train.drop(columns=['target']), df_train['target'], cv=5))\n",
    "    for name, regressor in regressors.items()\n",
    "})\n",
    "\n",
    "cv_scores"
   ]
  },
  {
   "cell_type": "markdown",
   "id": "fb2b8a20-d0c5-4fe3-8479-4d67ebc4a563",
   "metadata": {},
   "source": [
    "4. Entre as abordagens exploradas no ponto 3, selecione a melhor. Use essa abordagem para treinar um regressor no conjunto de treino. Avalie o desempenho desse classificador no conjunto de teste usando as seguintes métricas: erro quadrático médio (MSE), erro absoluto médio (MAE) e coeficiente de determinação (R<sup>2</sup>)."
   ]
  },
  {
   "cell_type": "code",
   "execution_count": null,
   "id": "a724f79a-4831-40bc-9793-2391244faee2",
   "metadata": {},
   "outputs": [],
   "source": [
    "best = cv_scores.sort_values(ascending=False).index[0]\n",
    "best_regressor = regressors[best]\n",
    "best_regressor.fit(df_train.drop(columns=['target']), df_train['target'])\n",
    "\n",
    "print(f'### {best} ###')\n",
    "\n",
    "y_pred = best_regressor.predict(df_test.drop(columns=['target']))\n",
    "\n",
    "print('r2: {}'.format(r2_score(df_test['target'], y_pred)))\n",
    "print('mse: {}'.format(mean_squared_error(df_test['target'], y_pred)))\n",
    "print('mae: {}'.format(mean_absolute_error(df_test['target'], y_pred)))"
   ]
  },
  {
   "cell_type": "markdown",
   "id": "45709724-3063-49d0-b5a2-3b2213452e38",
   "metadata": {},
   "source": [
    "5. Ordene os exemplos do conjunto de teste por ordem decrescente do erro da previsão do regressor e verifique se existe algum padrão relevante. "
   ]
  },
  {
   "cell_type": "code",
   "execution_count": null,
   "id": "e596847f-0889-4062-a996-c35131674eab",
   "metadata": {},
   "outputs": [],
   "source": [
    "df_error = df_test.copy()\n",
    "df_error['error'] = np.abs(df_error['target'] - y_pred)\n",
    "\n",
    "df_error.sort_values('error', ascending=False).head(20)"
   ]
  }
 ],
 "metadata": {
  "kernelspec": {
   "display_name": "Python 3 (ipykernel)",
   "language": "python",
   "name": "python3"
  },
  "language_info": {
   "codemirror_mode": {
    "name": "ipython",
    "version": 3
   },
   "file_extension": ".py",
   "mimetype": "text/x-python",
   "name": "python",
   "nbconvert_exporter": "python",
   "pygments_lexer": "ipython3",
   "version": "3.10.10"
  }
 },
 "nbformat": 4,
 "nbformat_minor": 5
}
