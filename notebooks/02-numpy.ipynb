{
 "cells": [
  {
   "cell_type": "markdown",
   "metadata": {
    "slideshow": {
     "slide_type": "slide"
    }
   },
   "source": [
    "# Processamento numérico\n",
    "\n",
    "Ao contrário de outras linguagens, como R ou MATLAB, Python não tem, nativamente, tipos e métodos para processamento numérico. Como tal, esse tipo de processamento costuma ser realizado usando bibliotecas adicionais. Neste contexto, a biblioteca [NumPy](https://numpy.org/) é a mais usada para processamento numérico em Python, sendo quase considerada um standard."
   ]
  },
  {
   "cell_type": "markdown",
   "metadata": {},
   "source": [
    "Em Python, para usar a funcionalidade de uma biblioteca é necessário importá-la usando a *keyword* `import`."
   ]
  },
  {
   "cell_type": "code",
   "execution_count": null,
   "metadata": {},
   "outputs": [],
   "source": [
    "import numpy as np"
   ]
  },
  {
   "cell_type": "markdown",
   "metadata": {},
   "source": [
    "**Nota**: Utilizar `import <biblioteca>` é suficiente para importar a biblioteca. A utilização de `as <nome>` permite definir um nome alternativo para aceder aos conteúdos da biblioteca. Neste caso, `np` é apenas uma abreviatura para evitar escrever o nome completo."
   ]
  },
  {
   "cell_type": "markdown",
   "metadata": {},
   "source": [
    "## Array\n",
    "\n",
    "O tipo array (`numpy.ndarray`) é o tipo básico definido pela biblioteca *NumPy*. Um array multidimensional pode ser criado a partir de uma sequência (ex: lista ou tuplo)."
   ]
  },
  {
   "cell_type": "code",
   "execution_count": null,
   "metadata": {},
   "outputs": [],
   "source": [
    "v = np.array([1, 2, 3, 4])\n",
    "v"
   ]
  },
  {
   "cell_type": "code",
   "execution_count": null,
   "metadata": {},
   "outputs": [],
   "source": [
    "type(v)"
   ]
  },
  {
   "cell_type": "code",
   "execution_count": null,
   "metadata": {},
   "outputs": [],
   "source": [
    "v.shape"
   ]
  },
  {
   "cell_type": "code",
   "execution_count": null,
   "metadata": {},
   "outputs": [],
   "source": [
    "m = np.array([[1, 2, 3], [4, 5, 6], [7, 8, 9]])\n",
    "m"
   ]
  },
  {
   "cell_type": "code",
   "execution_count": null,
   "metadata": {},
   "outputs": [],
   "source": [
    "m.shape"
   ]
  },
  {
   "cell_type": "markdown",
   "metadata": {},
   "source": [
    "A biblioteca define também um conjunto de métodos para criar arrays com características específicas. Por exemplo:\n",
    "\n",
    "- `zeros`\n",
    "- `ones`\n",
    "- `full`\n",
    "- `random.rand`"
   ]
  },
  {
   "cell_type": "code",
   "execution_count": null,
   "metadata": {},
   "outputs": [],
   "source": [
    "np.zeros(10)"
   ]
  },
  {
   "cell_type": "code",
   "execution_count": null,
   "metadata": {},
   "outputs": [],
   "source": [
    "np.ones((3,2))"
   ]
  },
  {
   "cell_type": "code",
   "execution_count": null,
   "metadata": {},
   "outputs": [],
   "source": [
    "np.full(4, 3)"
   ]
  },
  {
   "cell_type": "code",
   "execution_count": null,
   "metadata": {},
   "outputs": [],
   "source": [
    "np.random.rand(2, 3)"
   ]
  },
  {
   "cell_type": "markdown",
   "metadata": {},
   "source": [
    "O operador de indexação `[]` pode ser usado para aceder aos elementos de um array."
   ]
  },
  {
   "cell_type": "code",
   "execution_count": null,
   "metadata": {},
   "outputs": [],
   "source": [
    "print(v[0])\n",
    "print(v[-1])\n",
    "print(v[1:3])\n",
    "\n",
    "print(m[0])\n",
    "print(m[1,2])\n",
    "print(m[:,1])\n",
    "print(m[:2,1:])"
   ]
  },
  {
   "cell_type": "markdown",
   "metadata": {},
   "source": [
    "Os arrays são mutáveis, por isso é possível alterar o valor dos seus elementos diretamente."
   ]
  },
  {
   "cell_type": "code",
   "execution_count": null,
   "metadata": {},
   "outputs": [],
   "source": [
    "v[0] = 10\n",
    "v"
   ]
  },
  {
   "cell_type": "markdown",
   "metadata": {},
   "source": [
    "**Nota**: Quando o operador de indexação é usado para obter uma parte do array original, é obtida uma referência para essa parte do array. Logo, quaisquer alterações são refletidas no array original. Caso não seja esse o comportamento pretendido, deve ser usado o método `copy`."
   ]
  },
  {
   "cell_type": "code",
   "execution_count": null,
   "metadata": {},
   "outputs": [],
   "source": [
    "s = m[:2,1:]\n",
    "c = s.copy()\n",
    "\n",
    "s[0, 0] = -1\n",
    "c[1, 1] = 50\n",
    "\n",
    "print(s)\n",
    "print(c)\n",
    "print(m)"
   ]
  },
  {
   "cell_type": "markdown",
   "metadata": {
    "slideshow": {
     "slide_type": "subslide"
    }
   },
   "source": [
    "## Porque é precisa a biblioteca NumPy?\n",
    "\n",
    "Porque não usar listas?"
   ]
  },
  {
   "cell_type": "code",
   "execution_count": null,
   "metadata": {},
   "outputs": [],
   "source": [
    "a = np.array([1,2,3])\n",
    "b = [1, 2, 3]"
   ]
  },
  {
   "cell_type": "markdown",
   "metadata": {},
   "source": [
    "1. Métodos para processamento numérico\n",
    "2. Eficiência\n",
    "3. Expressividade"
   ]
  },
  {
   "cell_type": "markdown",
   "metadata": {},
   "source": [
    "## Métodos para processamento numérico\n",
    "\n",
    "Os tipo array define um grande conjunto de métodos para processamento numérico. Por exemplo:\n",
    "\n",
    "- `mean`\n",
    "- `std`\n",
    "- `max`\n",
    "- `min`\n",
    "- `sum`\n",
    "- `dot`"
   ]
  },
  {
   "cell_type": "code",
   "execution_count": null,
   "metadata": {},
   "outputs": [],
   "source": [
    "v = np.array([1, 2, 3,])\n",
    "m = np.array([[1, 2, 3], [4, 5, 6], [7, 8, 9]])"
   ]
  },
  {
   "cell_type": "code",
   "execution_count": null,
   "metadata": {},
   "outputs": [],
   "source": [
    "print(f'{v.mean():.2f}±{v.std():.2f}')\n",
    "print(f'{m.min()}-{m.max()}')\n",
    "print(v.sum())\n",
    "\n",
    "m.dot(v)"
   ]
  },
  {
   "cell_type": "markdown",
   "metadata": {},
   "source": [
    "**Nota**: Muitos dos métodos podem ser aplicados ao longo de um eixo específico."
   ]
  },
  {
   "cell_type": "code",
   "execution_count": null,
   "metadata": {},
   "outputs": [],
   "source": [
    "m.mean(axis=0)"
   ]
  },
  {
   "cell_type": "code",
   "execution_count": null,
   "metadata": {},
   "outputs": [],
   "source": [
    "m.max(axis=1)"
   ]
  },
  {
   "cell_type": "markdown",
   "metadata": {},
   "source": [
    "## Operações sobre arrays"
   ]
  },
  {
   "cell_type": "markdown",
   "metadata": {
    "slideshow": {
     "slide_type": "subslide"
    }
   },
   "source": [
    "Para além dos métodos referidos anteriormente, também é possível fazer operações numéricas sobre arrays. Estas são aplicadas a todos os elementos do array."
   ]
  },
  {
   "cell_type": "code",
   "execution_count": null,
   "metadata": {},
   "outputs": [],
   "source": [
    "v = np.array([1, 2, 3,])\n",
    "m = np.array([[1, 2, 3], [4, 5, 6], [7, 8, 9]])"
   ]
  },
  {
   "cell_type": "code",
   "execution_count": null,
   "metadata": {},
   "outputs": [],
   "source": [
    "m + 1"
   ]
  },
  {
   "cell_type": "code",
   "execution_count": null,
   "metadata": {},
   "outputs": [],
   "source": [
    "m ** 2"
   ]
  },
  {
   "cell_type": "markdown",
   "metadata": {
    "slideshow": {
     "slide_type": "subslide"
    }
   },
   "source": [
    "As operações também podem ser entre dois arrays."
   ]
  },
  {
   "cell_type": "code",
   "execution_count": null,
   "metadata": {},
   "outputs": [],
   "source": [
    "v * v"
   ]
  },
  {
   "cell_type": "code",
   "execution_count": null,
   "metadata": {},
   "outputs": [],
   "source": [
    "m + m"
   ]
  },
  {
   "cell_type": "code",
   "execution_count": null,
   "metadata": {},
   "outputs": [],
   "source": [
    "m - v"
   ]
  },
  {
   "cell_type": "markdown",
   "metadata": {},
   "source": [
    "**Nota**: Quando as operações são entre dois arrays, é necessário que as dimensões sejam compatíveis "
   ]
  },
  {
   "cell_type": "code",
   "execution_count": null,
   "metadata": {},
   "outputs": [],
   "source": [
    "m - np.array([1,2])"
   ]
  },
  {
   "cell_type": "markdown",
   "metadata": {},
   "source": [
    "Para além das operações numéricas, também é possível aplicar operações lógicas sobre arrays. Neste caso, o resultado é um array de booleanos."
   ]
  },
  {
   "cell_type": "code",
   "execution_count": null,
   "metadata": {},
   "outputs": [],
   "source": [
    "v > 2"
   ]
  },
  {
   "cell_type": "code",
   "execution_count": null,
   "metadata": {},
   "outputs": [],
   "source": [
    "(v > 1) & (v < 3)"
   ]
  },
  {
   "cell_type": "markdown",
   "metadata": {},
   "source": [
    "Estas operações também podem ser usadas para selecionar os elementos de um array que satisfazem uma determinada condição."
   ]
  },
  {
   "cell_type": "code",
   "execution_count": null,
   "metadata": {},
   "outputs": [],
   "source": [
    "n = np.array([-1, -2, 4, 3, 5, -1])\n",
    "n[n < 0] = 0\n",
    "n"
   ]
  },
  {
   "cell_type": "markdown",
   "metadata": {
    "slideshow": {
     "slide_type": "subslide"
    }
   },
   "source": [
    "## Eficiência\n",
    "\n",
    "Uma lista em Python é uma sequência de ponteiros para objetos:\n",
    "\n",
    "![lista](../images/python-list.svg)\n",
    "\n",
    "Por outro lado, um array da biblioteca *NumPy* guarda os seus dados em memória de forma contígua:\n",
    "\n",
    "![array](../images/numpy-array.svg)\n",
    "\n",
    "Os computadores são **muito bons** a processar blocos de memória contíguos."
   ]
  },
  {
   "cell_type": "code",
   "execution_count": null,
   "metadata": {},
   "outputs": [],
   "source": [
    "a = list(range(1024))\n",
    "%timeit sum(a)"
   ]
  },
  {
   "cell_type": "code",
   "execution_count": null,
   "metadata": {},
   "outputs": [],
   "source": [
    "b = np.arange(1024)\n",
    "%timeit b.sum()"
   ]
  },
  {
   "cell_type": "markdown",
   "metadata": {
    "slideshow": {
     "slide_type": "subslide"
    }
   },
   "source": [
    "Uma diferença na ordem dos microsegundos pode não parecer muito relevante, mas a diferença torna-se cada vez maior à medida que o tamanho dos arrays aumenta ou quando são usadas operações mais complexas."
   ]
  },
  {
   "cell_type": "code",
   "execution_count": null,
   "metadata": {
    "slideshow": {
     "slide_type": "-"
    }
   },
   "outputs": [],
   "source": [
    "a = list(range(1024*1024))\n",
    "%timeit sum(v*v for v in a)"
   ]
  },
  {
   "cell_type": "code",
   "execution_count": null,
   "metadata": {
    "slideshow": {
     "slide_type": "-"
    }
   },
   "outputs": [],
   "source": [
    "b = np.arange(1024*1024)\n",
    "%timeit (b**2).sum()"
   ]
  },
  {
   "cell_type": "markdown",
   "metadata": {
    "slideshow": {
     "slide_type": "fragment"
    }
   },
   "source": [
    "**Nota**: Os comandos que começam por `%` são chamados comandos mágicos e só podem ser usados em ambientes interativos, como por exemplo este notebook."
   ]
  },
  {
   "cell_type": "markdown",
   "metadata": {},
   "source": [
    "## Desvantagens\n",
    "\n",
    "As vantagens dos arrays têm um preço. Por exemplo, ao contrário das listas, não é possível adicionar ou remover elementos de um array. Isto acontece porque o seu espaço em memória é alocado no momento da criação. Para além disso, também contrariamente às listas, os arrays são homogéneos, isto é, todos os seus elementos têm de ser do mesmo tipo, sendo este definido no momento da criação."
   ]
  },
  {
   "cell_type": "code",
   "execution_count": null,
   "metadata": {},
   "outputs": [],
   "source": [
    "i = np.array([0, 1, 2]) # implicit type\n",
    "i.dtype"
   ]
  },
  {
   "cell_type": "code",
   "execution_count": null,
   "metadata": {},
   "outputs": [],
   "source": [
    "i[0] = 2.7\n",
    "i"
   ]
  },
  {
   "cell_type": "code",
   "execution_count": null,
   "metadata": {},
   "outputs": [],
   "source": [
    "f = np.array([0.5, 1.1, 2.1])\n",
    "f.dtype"
   ]
  },
  {
   "cell_type": "code",
   "execution_count": null,
   "metadata": {},
   "outputs": [],
   "source": [
    "e = np.array([0, 1, 2], dtype=np.float64) # explicit type\n",
    "e"
   ]
  },
  {
   "cell_type": "markdown",
   "metadata": {
    "slideshow": {
     "slide_type": "subslide"
    }
   },
   "source": [
    "A biblioteca *NumPy* define um conjunto de tipos que podem ser usados nos arrays. Por exemplo:\n",
    "\n",
    "- `int8`, `int16`, `int32`, `int64`\n",
    "- `uint8`, `uint16`, `uint32`, `uint64`\n",
    "- `float32`, `float64`, `float16`\n",
    "- `bool`\n",
    "\n",
    "Também podem ser usados outros tipos, por exemplo para criar arrays de cadeias de caracteres ou objetos genéricos, mas a funcionalidade de arrays desses tipos é limitada."
   ]
  },
  {
   "cell_type": "markdown",
   "metadata": {},
   "source": [
    "**Nota**: Tendo em conta a natureza de alguns destes tipos, é preciso ter cuidado pois podem transbordar."
   ]
  },
  {
   "cell_type": "code",
   "execution_count": null,
   "metadata": {},
   "outputs": [],
   "source": [
    "v = np.array([1,2,3], np.uint8)\n",
    "v - 10"
   ]
  }
 ],
 "metadata": {
  "celltoolbar": "Slideshow",
  "kernelspec": {
   "display_name": "Python 3 (ipykernel)",
   "language": "python",
   "name": "python3"
  },
  "language_info": {
   "codemirror_mode": {
    "name": "ipython",
    "version": 3
   },
   "file_extension": ".py",
   "mimetype": "text/x-python",
   "name": "python",
   "nbconvert_exporter": "python",
   "pygments_lexer": "ipython3",
   "version": "3.10.10"
  },
  "rise": {
   "scroll": true
  },
  "toc-autonumbering": false,
  "toc-showtags": false,
  "widgets": {
   "state": {
    "0c2d34b168834959a416a71a175d512b": {
     "views": [
      {
       "cell_index": 168
      }
     ]
    },
    "5db507fe394f4be4a3f06fffa4929be6": {
     "views": [
      {
       "cell_index": 170
      }
     ]
    }
   },
   "version": "1.2.0"
  }
 },
 "nbformat": 4,
 "nbformat_minor": 4
}
