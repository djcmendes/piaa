{
 "cells": [
  {
   "cell_type": "markdown",
   "id": "397f8205",
   "metadata": {},
   "source": [
    "# 5. Evaluation"
   ]
  },
  {
   "cell_type": "markdown",
   "id": "eac9830b",
   "metadata": {},
   "source": [
    "In this final phase, we evaluate the results obtained in the modelling phase to determine how well the selected models address the initial business or research question.\n",
    "\n",
    "We also provide interpretations and conclusions based on the outcomes, reflecting on whether the results were in line with our expectations."
   ]
  },
  {
   "cell_type": "markdown",
   "id": "cca0ad1d",
   "metadata": {},
   "source": []
  }
 ],
 "metadata": {
  "language_info": {
   "name": "python"
  }
 },
 "nbformat": 4,
 "nbformat_minor": 5
}
