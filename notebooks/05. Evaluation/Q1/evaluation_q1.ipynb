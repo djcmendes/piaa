{
 "cells": [
  {
   "cell_type": "markdown",
   "id": "397f8205",
   "metadata": {},
   "source": [
    "# 5. Evaluation"
   ]
  },
  {
   "cell_type": "markdown",
   "id": "eac9830b",
   "metadata": {},
   "source": [
    "In this final phase, we evaluate the results obtained in the modelling phase to determine how well the selected models address the initial business or research question.\n",
    "\n",
    "We also provide interpretations and conclusions based on the outcomes, reflecting on whether the results were in line with our expectations."
   ]
  },
  {
   "cell_type": "markdown",
   "id": "cca0ad1d",
   "metadata": {},
   "source": [
    "From the previous phase, we concluded that student's performance in mathematics is not solely determined by their cognitive or academic skills, but is also significantly influenced by external factors. As expected, mathematics self-efficacy (the belief in one’s ability to succeed in mathematical tasks) had the greatest impact among non-repeating students, which reinforces the idea that confidence and self-perception play a crucial role in this group's academic success.\n",
    "\n",
    "However, the analysis revealed a different pattern for repeating students. Variables related to socio-economic background, such as ICT resources (availability of digital tools and internet access at home) and Home Possessions (items that reflect family wealth and support for learning), were found to have a stronger influence on this group's performance. \n",
    "\n",
    "These results emphasise the impact that socio-economic conditions and limitations to resources can have on the students, which places them at a disadvantage when compared to more privileged students. The opportunities available are not the same, and these disadvantages are typically beyond their control."
   ]
  }
 ],
 "metadata": {
  "language_info": {
   "name": "python"
  }
 },
 "nbformat": 4,
 "nbformat_minor": 5
}
