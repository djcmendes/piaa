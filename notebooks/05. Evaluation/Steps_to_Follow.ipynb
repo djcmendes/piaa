{
 "cells": [
  {
   "metadata": {},
   "cell_type": "markdown",
   "source": [
    "# 5. Evaluation\n",
    "\n",
    "### **5.1 Evaluate Results**\n",
    "\n",
    "**Task Evaluate Results**\n",
    "\n",
    "Previous evaluation steps dealt with factors such as the accuracy and\n",
    "generality of the model. This step assesses the degree to which the model\n",
    "meets the business objectives and seeks to determine if there is some\n",
    "business reason why this model is deficient. Another option of evaluation\n",
    "is to test the model(s) on test applications in the real application if time\n",
    "and budget constraints permit.\n",
    "\n",
    "Moreover, evaluation also assesses other data mining results generated.\n",
    "Data mining results cover models which are necessarily related to the\n",
    "original business objectives, and all other findings which are not\n",
    "necessarily related to the original business objectives but might also\n",
    "unveil additional challenges, information, or hints for future directions.\n",
    "\n",
    "**Outputs Assessment of Data Mining Results w.r.t. Business Success Criteria**\n",
    "\n",
    "Summarizes assessment results in terms of business success criteria\n",
    "including a final statement whether the project already meets the initial\n",
    "business objectives.\n",
    "\n",
    "**Approved Models**\n",
    "\n",
    "After model assessment w.r.t. business success criteria, you eventually\n",
    "get approved models if the generated models meet the selected criteria."
   ]
  },
  {
   "metadata": {},
   "cell_type": "markdown",
   "source": [
    "### **5.3 Determine Next Steps**\n",
    "\n",
    "**Task Determine Next Steps**\n",
    "According to the assessment results and the process review, the project\n",
    "decides how to proceed at this stage. The project needs to decide whether\n",
    "to finish this project and move on to deployment if appropriate, or\n",
    "whether to initiate further iterations or set up new data mining projects.\n",
    "This task include analyses of remaining resources and budget which\n",
    "influences the decisions.\n",
    "\n",
    "**Outputs List of Possible Actions**\n",
    "\n",
    "A list of possible further actions along with the reasons for and against\n",
    "each option.\n",
    "\n",
    "**Decision**\n",
    "\n",
    "Describes the decision as to how to proceed along with the rationale."
   ]
  }
 ],
 "metadata": {
  "language_info": {
   "name": "python"
  }
 },
 "nbformat": 4,
 "nbformat_minor": 2
}
