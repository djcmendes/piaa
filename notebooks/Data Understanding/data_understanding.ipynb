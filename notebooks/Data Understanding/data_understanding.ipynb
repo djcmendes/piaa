{
 "cells": [
  {
   "cell_type": "markdown",
   "metadata": {},
   "source": [
    "# Data Understanding"
   ]
  },
  {
   "cell_type": "markdown",
   "metadata": {},
   "source": [
    "### Import datasets"
   ]
  },
  {
   "cell_type": "code",
   "execution_count": null,
   "metadata": {},
   "outputs": [
    {
     "name": "stdout",
     "output_type": "stream",
     "text": [
      "(21629, 431)\n",
      "(613744, 1278)\n",
      "(68054, 543)\n"
     ]
    }
   ],
   "source": [
    "import pandas as pd\n",
    "\n",
    "school = pd.read_sas(\n",
    "    \"./databases/2022/SCH_QQQ_SAS/CY08MSP_SCH_QQQ.SAS7BDAT\", format=\"sas7bdat\"\n",
    ")\n",
    "print(school.shape)\n",
    "\n",
    "student = pd.read_sas(\n",
    "    \"./databases/2022/STU_QQQ_SAS/CY08MSP_STU_QQQ.SAS7BDAT\", format=\"sas7bdat\"\n",
    ")\n",
    "print(student.shape)\n",
    "\n",
    "teacher = pd.read_sas(\n",
    "    \"./databases/2022/TCH_QQQ_SAS/CY08MSP_TCH_QQQ.SAS7BDAT\", format=\"sas7bdat\"\n",
    ")\n",
    "print(teacher.shape)"
   ]
  },
  {
   "cell_type": "code",
   "execution_count": null,
   "metadata": {},
   "outputs": [
    {
     "name": "stdout",
     "output_type": "stream",
     "text": [
      "(613744, 172)\n",
      "(499843, 301)\n",
      "(97983, 3637)\n",
      "(97983, 3637)\n",
      "(97983, 3637)\n"
     ]
    }
   ],
   "source": [
    "import pandas as pd\n",
    "\n",
    "# Commented because it crashes the kernel\n",
    "# cognitive = pd.read_sas(\n",
    "#     \"./databases/2022/STU_COG_SAS/CY08MSP_STU_COG.SAS7BDAT\", format=\"sas7bdat\"\n",
    "# )\n",
    "# print(cognitive.shape)\n",
    "\n",
    "questionnaire = pd.read_sas(\n",
    "    \"./databases/2022/STU_TIM_SAS/CY08MSP_STU_TIM.SAS7BDAT\", format=\"sas7bdat\"\n",
    ")\n",
    "print(questionnaire.shape)\n",
    "\n",
    "creative = pd.read_sas(\n",
    "    \"./databases/2022/CRT_SAS/CY08MSP_CRT_COG.SAS7BDAT\", format=\"sas7bdat\"\n",
    ")\n",
    "print(creative.shape)\n",
    "\n",
    "financialCOG = pd.read_sas(\n",
    "    \"./databases/2022/FLT_SAS/CY08MSP_FLT_COG.SAS7BDAT\", format=\"sas7bdat\",\n",
    ")\n",
    "print(financialCOG.shape)\n",
    "\n",
    "financialQQQ = pd.read_sas(\n",
    "    \"./databases/2022/FLT_SAS/CY08MSP_FLT_COG.SAS7BDAT\",\n",
    "    format=\"sas7bdat\",\n",
    ")\n",
    "print(financialQQQ.shape)\n",
    "\n",
    "financialTIM = pd.read_sas(\n",
    "    \"./databases/2022/FLT_SAS/CY08MSP_FLT_COG.SAS7BDAT\",\n",
    "    format=\"sas7bdat\",\n",
    ")\n",
    "print(financialTIM.shape)"
   ]
  },
  {
   "cell_type": "code",
   "execution_count": null,
   "metadata": {},
   "outputs": [
    {
     "name": "stdout",
     "output_type": "stream",
     "text": [
      "(100000, 5023)\n",
      "(100000, 5023)\n",
      "(100000, 5023)\n",
      "(100000, 5023)\n",
      "(100000, 5023)\n",
      "(100000, 5023)\n",
      "(13744, 5023)\n",
      "(613744, 5023)\n"
     ]
    }
   ],
   "source": [
    "import pandas as pd\n",
    "\n",
    "\n",
    "chunksize = 100000\n",
    "file_path = \"./databases/2022/STU_COG_SAS/CY08MSP_STU_COG.SAS7BDAT\"\n",
    "\n",
    "chunks = []\n",
    "\n",
    "for chunk in pd.read_sas(file_path, format=\"sas7bdat\", chunksize=chunksize):\n",
    "    print(chunk.shape)\n",
    "    chunks.append(chunk)\n",
    "\n",
    "cognitive = pd.concat(chunks, ignore_index=True)\n",
    "\n",
    "\n",
    "print(cognitive.shape)"
   ]
  },
  {
   "cell_type": "code",
   "execution_count": 4,
   "metadata": {},
   "outputs": [],
   "source": [
    "school.to_csv(\"school2022.csv\", index=False)\n",
    "student.to_csv(\"student2022.csv\", index=False)\n",
    "teacher.to_csv(\"teacher2022.csv\", index=False)\n",
    "cognitive.to_csv(\"cognitive2022.csv\", index=False)\n",
    "questionnaire.to_csv(\"questionnaire2022.csv\", index=False)\n",
    "creative.to_csv(\"creative2022.csv\", index=False)\n",
    "financialCOG.to_csv(\"financialCOG2022.csv\", index=False)\n",
    "financialQQQ.to_csv(\"financialQQQ2022.csv\", index=False)\n",
    "financialTIM.to_csv(\"financialTIM2022.csv\", index=False)"
   ]
  },
  {
   "cell_type": "markdown",
   "metadata": {},
   "source": [
    "### Student Data"
   ]
  },
  {
   "cell_type": "code",
   "execution_count": 2,
   "metadata": {},
   "outputs": [
    {
     "name": "stdout",
     "output_type": "stream",
     "text": [
      "(613744, 1278)\n"
     ]
    }
   ],
   "source": [
    "import pandas as pd\n",
    "\n",
    "student = pd.read_sas(\n",
    "    \"./databases/2022/STU_QQQ_SAS/CY08MSP_STU_QQQ.SAS7BDAT\", format=\"sas7bdat\"\n",
    ")\n",
    "print(student.shape)"
   ]
  },
  {
   "cell_type": "code",
   "execution_count": 11,
   "metadata": {},
   "outputs": [
    {
     "name": "stdout",
     "output_type": "stream",
     "text": [
      "3          8.0\n",
      "11        10.0\n",
      "30        10.0\n",
      "37         9.0\n",
      "40        10.0\n",
      "          ... \n",
      "613651     9.0\n",
      "613662     9.0\n",
      "613669     9.0\n",
      "613678     9.0\n",
      "613735     9.0\n",
      "Name: ST001D01T, Length: 60004, dtype: float64\n",
      "ST001D01T\n",
      "9.0     31402\n",
      "10.0    13111\n",
      "8.0     10751\n",
      "7.0      3004\n",
      "11.0     1164\n",
      "98.0      283\n",
      "96.0      227\n",
      "12.0       59\n",
      "99.0        3\n",
      "Name: count, dtype: int64\n"
     ]
    }
   ],
   "source": [
    "y = student[student[\"REPEAT\"] == 1]\n",
    "print(y[\"ST001D01T\"])\n",
    "count_values = y[\"ST001D01T\"].value_counts()\n",
    "print(count_values)"
   ]
  }
 ],
 "metadata": {
  "kernelspec": {
   "display_name": "Python 3",
   "language": "python",
   "name": "python3"
  },
  "language_info": {
   "codemirror_mode": {
    "name": "ipython",
    "version": 3
   },
   "file_extension": ".py",
   "mimetype": "text/x-python",
   "name": "python",
   "nbconvert_exporter": "python",
   "pygments_lexer": "ipython3",
   "version": "3.13.0"
  }
 },
 "nbformat": 4,
 "nbformat_minor": 2
}
