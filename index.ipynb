{
 "cells": [
  {
   "metadata": {},
   "cell_type": "markdown",
   "source": [
    "# PISA Dataset Insights\n",
    "\n",
    "Base de dados utilizada (PISA): https://www.oecd.org/en/data/datasets/pisa-2022-database.html\n",
    "\n",
    "       - André Costa\n",
    "       - Celso Ribeiro\n",
    "25552  - David Mendes\n",
    "\n",
    "PIAA\n",
    "ISCTE - Instituto Universitário de Lisboa.\n",
    "\n",
    "----"
   ]
  },
  {
   "cell_type": "markdown",
   "metadata": {},
   "source": [
    "## Conteúdo \n",
    "\n",
    "[01. Business Understanding](./notebooks/01. Business Understanding/business_understanding.ipynb)\n",
    "02. Data Understanding\n",
    "   2.1   [01. Business Understanding](./notebooks/01. Business Understanding/business_understanding.ipynb)\n",
    "   2.2   [01. Business Understanding](./notebooks/01. Business Understanding/business_understanding.ipynb)\n",
    "   2.3   [01. Business Understanding](./notebooks/01. Business Understanding/business_understanding.ipynb)\n",
    "03. Data Preparation\n",
    "   2.1   [01. Business Understanding](./notebooks/01. Business Understanding/business_understanding.ipynb)\n",
    "   2.2   [01. Business Understanding](./notebooks/01. Business Understanding/business_understanding.ipynb)\n",
    "   2.3   [01. Business Understanding](./notebooks/01. Business Understanding/business_understanding.ipynb)\n",
    "04. Modeling\n",
    "   2.1   [01. Business Understanding](./notebooks/01. Business Understanding/business_understanding.ipynb)\n",
    "   2.2   [01. Business Understanding](./notebooks/01. Business Understanding/business_understanding.ipynb)\n",
    "   2.3   [01. Business Understanding](./notebooks/01. Business Understanding/business_understanding.ipynb)\n",
    "05. Evaluation\n",
    "    2.1   [01. Business Understanding](./notebooks/01. Business Understanding/business_understanding.ipynb)\n",
    "    2.2   [01. Business Understanding](./notebooks/01. Business Understanding/business_understanding.ipynb)\n",
    "    2.3   [01. Business Understanding](./notebooks/01. Business Understanding/business_understanding.ipynb)\n",
    "06. Deployment\n",
    "    2.3   [01. Business Understanding](./notebooks/01. Business Understanding/business_understanding.ipynb)"
   ]
  },
  {
   "metadata": {
    "ExecuteTime": {
     "end_time": "2025-06-08T13:48:24.680406Z",
     "start_time": "2025-06-08T13:48:24.678460Z"
    }
   },
   "cell_type": "code",
   "source": "",
   "outputs": [],
   "execution_count": null
  }
 ],
 "metadata": {
  "kernelspec": {
   "display_name": "Python 3 (ipykernel)",
   "language": "python",
   "name": "python3"
  },
  "language_info": {
   "codemirror_mode": {
    "name": "ipython",
    "version": 3
   },
   "file_extension": ".py",
   "mimetype": "text/x-python",
   "name": "python",
   "nbconvert_exporter": "python",
   "pygments_lexer": "ipython3",
   "version": "3.11.6"
  }
 },
 "nbformat": 4,
 "nbformat_minor": 4
}
